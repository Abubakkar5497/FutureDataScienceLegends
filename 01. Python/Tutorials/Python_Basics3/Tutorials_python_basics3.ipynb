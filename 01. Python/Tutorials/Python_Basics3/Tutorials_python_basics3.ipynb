{
 "cells": [
  {
   "cell_type": "markdown",
   "id": "6de3d431",
   "metadata": {},
   "source": [
    "# Loops\n"
   ]
  },
  {
   "cell_type": "raw",
   "id": "57c8b588",
   "metadata": {},
   "source": [
    "FOR loop\n",
    "WHILE loop"
   ]
  },
  {
   "cell_type": "raw",
   "id": "4339e7ac",
   "metadata": {},
   "source": [
    "# use if it for iterating( traversing) through a set of values (list, tuple, dict, string, etc)"
   ]
  },
  {
   "cell_type": "code",
   "execution_count": 1,
   "id": "a4244f78",
   "metadata": {},
   "outputs": [
    {
     "name": "stdout",
     "output_type": "stream",
     "text": [
      "range(1, 5)\n",
      "1\n",
      "2\n",
      "3\n",
      "4\n"
     ]
    }
   ],
   "source": [
    "# traverse thru range\n",
    "#####################\n",
    "\n",
    "a = range(1,5)\n",
    "print(a)\n",
    "\n",
    "for i in a:\n",
    "    print(i)"
   ]
  },
  {
   "cell_type": "code",
   "execution_count": 2,
   "id": "6e23c40c",
   "metadata": {},
   "outputs": [
    {
     "name": "stdout",
     "output_type": "stream",
     "text": [
      "['rahul', 'pant', 'samson', 'jurel'] <class 'list'>\n",
      "rahul\n",
      "pant\n",
      "samson\n",
      "jurel\n"
     ]
    }
   ],
   "source": [
    "# traverse the list\n",
    "\n",
    "a = ['rahul','pant','samson','jurel']\n",
    "print(a, type(a))\n",
    "\n",
    "for i in a:\n",
    "    print(i)"
   ]
  },
  {
   "cell_type": "code",
   "execution_count": 3,
   "id": "4653741a",
   "metadata": {},
   "outputs": [
    {
     "name": "stdout",
     "output_type": "stream",
     "text": [
      "India <class 'str'>\n",
      "I\n",
      "n\n",
      "d\n",
      "i\n",
      "a\n"
     ]
    }
   ],
   "source": [
    "# traverse thru string\n",
    "a = \"India\"\n",
    "print(a, type(a))\n",
    "\n",
    "for i in a:\n",
    "    print(i)"
   ]
  },
  {
   "cell_type": "code",
   "execution_count": 4,
   "id": "3b8dd9ce",
   "metadata": {},
   "outputs": [
    {
     "name": "stdout",
     "output_type": "stream",
     "text": [
      "['rahul', 'pant', 'samson', 'jurel'] <class 'list'>\n",
      "rahul\n",
      "r\n",
      "a\n",
      "h\n",
      "u\n",
      "l\n",
      "pant\n",
      "p\n",
      "a\n",
      "n\n",
      "t\n",
      "samson\n",
      "s\n",
      "a\n",
      "m\n",
      "s\n",
      "o\n",
      "n\n",
      "jurel\n",
      "j\n",
      "u\n",
      "r\n",
      "e\n",
      "l\n"
     ]
    }
   ],
   "source": [
    "# Nested For loops\n",
    "a = ['rahul','pant','samson','jurel']\n",
    "print(a, type(a))\n",
    "\n",
    "for i in a:\n",
    "    print(i)\n",
    "    for j in i:\n",
    "        print(j)"
   ]
  },
  {
   "cell_type": "code",
   "execution_count": 5,
   "id": "69260acb",
   "metadata": {},
   "outputs": [
    {
     "name": "stdout",
     "output_type": "stream",
     "text": [
      "('rahul', 'pant', 'samson', 'jurel') <class 'tuple'>\n",
      "rahul\n",
      "pant\n",
      "samson\n",
      "jurel\n"
     ]
    }
   ],
   "source": [
    "# traverse the tuple\n",
    "\n",
    "# a = ['rahul','pant','samson','jurel']\n",
    "a = ('rahul','pant','samson','jurel')\n",
    "print(a, type(a))\n",
    "\n",
    "for i in a:\n",
    "    print(i)"
   ]
  },
  {
   "cell_type": "code",
   "execution_count": 6,
   "id": "cbf61310",
   "metadata": {},
   "outputs": [
    {
     "name": "stdout",
     "output_type": "stream",
     "text": [
      "{'jurel', 'samson', 'rahul', 'pant'} <class 'set'>\n",
      "jurel\n",
      "samson\n",
      "rahul\n",
      "pant\n"
     ]
    }
   ],
   "source": [
    "# traverse the set\n",
    "\n",
    "# a = ['rahul','pant','samson','jurel']\n",
    "a = {'rahul','pant','samson','jurel'}\n",
    "print(a, type(a))\n",
    "\n",
    "for i in a:\n",
    "    print(i)"
   ]
  },
  {
   "cell_type": "code",
   "execution_count": 7,
   "id": "e7eb5580",
   "metadata": {},
   "outputs": [
    {
     "name": "stdout",
     "output_type": "stream",
     "text": [
      "{'wk1': 'rahul', 'wk2': 'pant', 'wk3': 'samson', 'wk4': 'jurel'} <class 'dict'>\n",
      "wk1\n",
      "wk2\n",
      "wk3\n",
      "wk4\n"
     ]
    }
   ],
   "source": [
    "# traverse the dict - keys\n",
    "\n",
    "a = {'wk1':'rahul','wk2':'pant','wk3':'samson','wk4':'jurel'}\n",
    "print(a, type(a))\n",
    "\n",
    "for i in a:\n",
    "    print(i)"
   ]
  },
  {
   "cell_type": "code",
   "execution_count": 8,
   "id": "62c3be21",
   "metadata": {},
   "outputs": [
    {
     "name": "stdout",
     "output_type": "stream",
     "text": [
      "{'wk1': 'rahul', 'wk2': 'pant', 'wk3': 'samson', 'wk4': 'jurel'} <class 'dict'>\n",
      "wk1\n",
      "wk2\n",
      "wk3\n",
      "wk4\n"
     ]
    }
   ],
   "source": [
    "# traverse the dict - keys\n",
    "\n",
    "a = {'wk1':'rahul','wk2':'pant','wk3':'samson','wk4':'jurel'}\n",
    "print(a, type(a))\n",
    "\n",
    "for i in a.keys():\n",
    "    print(i)"
   ]
  },
  {
   "cell_type": "code",
   "execution_count": 9,
   "id": "b6884dc5",
   "metadata": {},
   "outputs": [
    {
     "name": "stdout",
     "output_type": "stream",
     "text": [
      "{'wk1': 'rahul', 'wk2': 'pant', 'wk3': 'samson', 'wk4': 'jurel'} <class 'dict'>\n",
      "('wk1', 'rahul')\n",
      "('wk2', 'pant')\n",
      "('wk3', 'samson')\n",
      "('wk4', 'jurel')\n"
     ]
    }
   ],
   "source": [
    "# traverse thru dict keys-values\n",
    "\n",
    "a = {'wk1':'rahul','wk2':'pant','wk3':'samson','wk4':'jurel'}\n",
    "print(a, type(a))\n",
    "\n",
    "for i in a.items():\n",
    "    print(i)"
   ]
  },
  {
   "cell_type": "code",
   "execution_count": 10,
   "id": "7383848d",
   "metadata": {},
   "outputs": [
    {
     "name": "stdout",
     "output_type": "stream",
     "text": [
      "{'wk1': 'rahul', 'wk2': 'pant', 'wk3': 'samson', 'wk4': 'jurel'} <class 'dict'>\n",
      "rahul\n",
      "pant\n",
      "samson\n",
      "jurel\n"
     ]
    }
   ],
   "source": [
    "# traverse thru dict values\n",
    "\n",
    "a = {'wk1':'rahul','wk2':'pant','wk3':'samson','wk4':'jurel'}\n",
    "print(a, type(a))\n",
    "\n",
    "for i in a.values():\n",
    "    print(i)"
   ]
  },
  {
   "cell_type": "code",
   "execution_count": 11,
   "id": "baf1ee93",
   "metadata": {},
   "outputs": [],
   "source": [
    "#While Loop\n",
    "\n",
    "#i = 0\n",
    "#while i < 5:\n",
    "#    print(i) \n",
    "# infinite loop\n"
   ]
  },
  {
   "cell_type": "code",
   "execution_count": 12,
   "id": "81cf14b0",
   "metadata": {},
   "outputs": [
    {
     "name": "stdout",
     "output_type": "stream",
     "text": [
      "0\n",
      "1\n",
      "2\n",
      "3\n",
      "4\n"
     ]
    }
   ],
   "source": [
    "i = 0\n",
    "while i < 5:\n",
    "    print(i) \n",
    "    i =  i + 1 # increment by 1 to avoid inifinite looping condition\n"
   ]
  },
  {
   "cell_type": "code",
   "execution_count": 13,
   "id": "f3d0a5de",
   "metadata": {},
   "outputs": [
    {
     "name": "stdout",
     "output_type": "stream",
     "text": [
      "1\n",
      "2\n",
      "3\n"
     ]
    }
   ],
   "source": [
    "# while loop with a list\n",
    "\n",
    "a = [1,2,3] # list\n",
    "i = 0\n",
    "while i < len(a):\n",
    "    print(a[i])\n",
    "    i = i + 1\n"
   ]
  },
  {
   "cell_type": "code",
   "execution_count": 14,
   "id": "da22aa42",
   "metadata": {},
   "outputs": [
    {
     "name": "stdout",
     "output_type": "stream",
     "text": [
      "1\n",
      "2\n",
      "3\n"
     ]
    }
   ],
   "source": [
    "a = [1,2,3] # list\n",
    "print(a[0])\n",
    "print(a[1])\n",
    "print(a[2])"
   ]
  },
  {
   "cell_type": "code",
   "execution_count": 15,
   "id": "7b6e3f25",
   "metadata": {},
   "outputs": [
    {
     "name": "stdout",
     "output_type": "stream",
     "text": [
      "6\n"
     ]
    }
   ],
   "source": [
    "# find sum of elements values in this list\n",
    "a = [1,2,3] # list\n",
    "\n",
    "print( a[0] + a[1] + a[2] )\n",
    "\n",
    "# o/p = 6"
   ]
  },
  {
   "cell_type": "code",
   "execution_count": 16,
   "id": "c7f850bd",
   "metadata": {},
   "outputs": [
    {
     "name": "stdout",
     "output_type": "stream",
     "text": [
      "i= 0 a[i]= 1 start of loop s= 0\n",
      "i= 1 end of loop s= 1\n",
      "----------\n",
      "i= 1 a[i]= 2 start of loop s= 1\n",
      "i= 2 end of loop s= 3\n",
      "----------\n",
      "i= 2 a[i]= 3 start of loop s= 3\n",
      "i= 3 end of loop s= 6\n",
      "----------\n",
      "sum= 6\n"
     ]
    }
   ],
   "source": [
    "a = [1,2,3] # list\n",
    "i = 0\n",
    "s = 0 # to sum the values during iteration\n",
    "while i < len(a):\n",
    "    print('i=',i,'a[i]=',a[i],'start of loop s=',s)\n",
    "    s = s + a[i]\n",
    "    i = i + 1\n",
    "    print('i=',i,'end of loop s=',s)\n",
    "    print('-'*10)\n",
    "print('sum=',s)    "
   ]
  },
  {
   "cell_type": "code",
   "execution_count": 17,
   "id": "c68f6029",
   "metadata": {},
   "outputs": [
    {
     "name": "stdout",
     "output_type": "stream",
     "text": [
      "[1, 2, 3, 4, 5, 3, 7, 8, 3] 9 <class 'list'>\n",
      "[1, 2, 4, 5, 7, 8]\n"
     ]
    }
   ],
   "source": [
    "# remove the value 3 from this list\n",
    "a = [1,2,3,4,5,3,7,8,3]\n",
    "print(a,len(a),type(a))\n",
    "\n",
    "i = 0 \n",
    "while 3 in a:\n",
    "    a.remove(3)\n",
    "print(a)    "
   ]
  },
  {
   "cell_type": "raw",
   "id": "37c3cbca",
   "metadata": {},
   "source": [
    "# CIBIL score\n",
    "credit score\n",
    "300-900\n",
    "Credit Information Bureau India Limited"
   ]
  },
  {
   "cell_type": "code",
   "execution_count": 18,
   "id": "f36d9457",
   "metadata": {},
   "outputs": [
    {
     "name": "stdout",
     "output_type": "stream",
     "text": [
      "300 Risk\n",
      "400 Risk\n",
      "500 Risk\n"
     ]
    }
   ],
   "source": [
    "# print a rating as \"Risk\" for those who have score of less than 550\n",
    "cibil_scr = [300,400,500,550,600,650,700,750]\n",
    "\n",
    "i = 0\n",
    "rating = \"\"\n",
    "listlen = len(cibil_scr)\n",
    "\n",
    "# only if\n",
    "\n",
    "while i < listlen:\n",
    "    if cibil_scr[i] < 550:\n",
    "        rating = \"Risk\"\n",
    "        print(cibil_scr[i], rating)\n",
    "    i =  i + 1"
   ]
  },
  {
   "cell_type": "code",
   "execution_count": 19,
   "id": "44b2efea",
   "metadata": {},
   "outputs": [
    {
     "name": "stdout",
     "output_type": "stream",
     "text": [
      "300 Risk\n",
      "400 Risk\n",
      "500 Risk\n",
      "550 Not Risky\n",
      "600 Not Risky\n",
      "650 Not Risky\n",
      "700 Not Risky\n",
      "750 Not Risky\n"
     ]
    }
   ],
   "source": [
    "# print a rating as \"Risk\" for those who have score of less than 550, more than eqaul to 550 are \"Not Risky\"\n",
    "cibil_scr = [300,400,500,550,600,650,700,750]\n",
    "\n",
    "i = 0\n",
    "rating = \"\"\n",
    "listlen = len(cibil_scr)\n",
    "\n",
    "# using if and else\n",
    "\n",
    "while i < listlen:\n",
    "    if cibil_scr[i] < 550:\n",
    "        rating = \"Risk\"\n",
    "        print(cibil_scr[i], rating)\n",
    "    else:\n",
    "        rating = \"Not Risky\"\n",
    "        print(cibil_scr[i], rating)\n",
    "    i =  i + 1"
   ]
  },
  {
   "cell_type": "code",
   "execution_count": 20,
   "id": "942d9057",
   "metadata": {},
   "outputs": [
    {
     "name": "stdout",
     "output_type": "stream",
     "text": [
      "12\n",
      "600 Average\n",
      "300 Risk\n",
      "800 Excellent\n",
      "400 Risk\n",
      "500 Risk\n",
      "550 Average\n",
      "200 Risk\n",
      "600 Average\n",
      "100 Risk\n",
      "650 Good\n",
      "700 Good\n",
      "750 Excellent\n"
     ]
    }
   ],
   "source": [
    "# print a rating as \"Risk\" for those who have score of less than 550, \n",
    "# 551-650 are \"Average\"\n",
    "# 651-750 are \"good\"\n",
    "# above 750 are \"Excellent\"\n",
    "\n",
    "cibil_scr = [600,300,800,400,500, 550, 200, 600, 100, 650, 700, 750]\n",
    "\n",
    "i = 0\n",
    "rating = \"\"\n",
    "listlen = len(cibil_scr)\n",
    "print(listlen)\n",
    "# using if and elif(else if)\n",
    "\n",
    "while i < listlen:\n",
    "    if cibil_scr[i] < 550:\n",
    "        rating = \"Risk\"\n",
    "    elif cibil_scr[i] < 650:\n",
    "        rating = \"Average\"\n",
    "    elif cibil_scr[i] < 750:\n",
    "        rating = \"Good\"        \n",
    "    else:\n",
    "        rating = \"Excellent\"\n",
    "        \n",
    "    print(cibil_scr[i], rating)\n",
    "    i =  i + 1"
   ]
  },
  {
   "cell_type": "raw",
   "id": "bcdf605e",
   "metadata": {},
   "source": [
    "break = terminate the loop, there will be NO next iteration\n",
    "continue = go to next iteration\n",
    "pass = dont do any thing( when a statement is required but you do not want to code , pass empty statments/ dummy statements) "
   ]
  },
  {
   "cell_type": "code",
   "execution_count": 21,
   "id": "41215266",
   "metadata": {},
   "outputs": [
    {
     "name": "stdout",
     "output_type": "stream",
     "text": [
      "original: [600, 300, 800, 400, 500, 550, 200, 600, 100, 650, 700, 750]\n",
      "sorted: [100, 200, 300, 400, 500, 550, 600, 600, 650, 700, 750, 800]\n",
      "12\n",
      "100 Risk\n",
      "200 Risk\n",
      "300 Risk\n",
      "400 Risk\n",
      "500 Risk\n"
     ]
    }
   ],
   "source": [
    "# list only the risky cibil score (using break to filter)\n",
    "cibil_scr = [600,300,800,400,500, 550, 200, 600, 100, 650, 700, 750]\n",
    "print('original:', cibil_scr)\n",
    "cibil_scr = sorted(cibil_scr)\n",
    "print('sorted:', cibil_scr)\n",
    "\n",
    "i = 0\n",
    "rating = \"\"\n",
    "listlen = len(cibil_scr)\n",
    "print(listlen)\n",
    "\n",
    "# using if and elif(else if)\n",
    "\n",
    "while i < listlen:\n",
    "    if cibil_scr[i] >=550:\n",
    "        break\n",
    "    else:\n",
    "        if cibil_scr[i] < 550:\n",
    "            rating = \"Risk\"\n",
    "        elif cibil_scr[i] < 650:\n",
    "            rating = \"Average\"\n",
    "        elif cibil_scr[i] < 750:\n",
    "            rating = \"Good\"        \n",
    "        else:\n",
    "            rating = \"Excellent\"\n",
    "        \n",
    "        print(cibil_scr[i], rating)\n",
    "        i =  i + 1"
   ]
  },
  {
   "cell_type": "code",
   "execution_count": null,
   "id": "31016514",
   "metadata": {},
   "outputs": [],
   "source": []
  },
  {
   "cell_type": "code",
   "execution_count": 22,
   "id": "bf14c282",
   "metadata": {},
   "outputs": [
    {
     "name": "stdout",
     "output_type": "stream",
     "text": [
      "0\n",
      "1\n",
      "2\n",
      "3\n",
      "4\n"
     ]
    }
   ],
   "source": [
    "i = 0\n",
    "while True: # infinite loop\n",
    "    print(i)\n",
    "    i = i + 1\n",
    "    if i == 5:\n",
    "        break"
   ]
  },
  {
   "cell_type": "code",
   "execution_count": 23,
   "id": "03846223",
   "metadata": {},
   "outputs": [
    {
     "name": "stdout",
     "output_type": "stream",
     "text": [
      "original: [600, 300, 800, 400, 500, 550, 200, 600, 100, 650, 700, 750]\n",
      "12\n",
      "300 Risk\n",
      "400 Risk\n",
      "500 Risk\n",
      "200 Risk\n",
      "100 Risk\n"
     ]
    }
   ],
   "source": [
    "# list only the risky cibil score (using continue)\n",
    "cibil_scr = [600,300,800,400,500, 550, 200, 600, 100, 650, 700, 750]\n",
    "print('original:', cibil_scr)\n",
    "#cibil_scr = sorted(cibil_scr)\n",
    "#print('sorted:', cibil_scr)\n",
    "\n",
    "i = 0\n",
    "rating = \"\"\n",
    "listlen = len(cibil_scr)\n",
    "print(listlen)\n",
    "\n",
    "# using if and elif(else if)\n",
    "\n",
    "while i < listlen:\n",
    "    if cibil_scr[i] >=550:\n",
    "        i = i + 1\n",
    "        continue\n",
    "    \n",
    "    if cibil_scr[i] < 550:\n",
    "        rating = \"Risk\"\n",
    "    elif cibil_scr[i] < 650:\n",
    "        rating = \"Average\"\n",
    "    elif cibil_scr[i] < 750:\n",
    "        rating = \"Good\"        \n",
    "    else:\n",
    "        rating = \"Excellent\"\n",
    "        \n",
    "    print(cibil_scr[i], rating)\n",
    "    i =  i + 1"
   ]
  },
  {
   "cell_type": "code",
   "execution_count": 24,
   "id": "2f6a01d6",
   "metadata": {},
   "outputs": [
    {
     "name": "stdout",
     "output_type": "stream",
     "text": [
      "3\n"
     ]
    }
   ],
   "source": [
    "def addition(a,b):\n",
    "    print(a+b)\n",
    "    \n",
    "addition(1,2)"
   ]
  },
  {
   "cell_type": "code",
   "execution_count": 25,
   "id": "5dd51c91",
   "metadata": {},
   "outputs": [
    {
     "name": "stdout",
     "output_type": "stream",
     "text": [
      "12\n"
     ]
    }
   ],
   "source": [
    "addition(10,2)"
   ]
  },
  {
   "cell_type": "code",
   "execution_count": 26,
   "id": "8f1c88e1",
   "metadata": {},
   "outputs": [],
   "source": [
    "def mydreams():\n",
    "    pass"
   ]
  },
  {
   "cell_type": "code",
   "execution_count": 27,
   "id": "516f3c16",
   "metadata": {},
   "outputs": [],
   "source": [
    "mydreams()"
   ]
  }
 ],
 "metadata": {
  "kernelspec": {
   "display_name": "Python 3 (ipykernel)",
   "language": "python",
   "name": "python3"
  },
  "language_info": {
   "codemirror_mode": {
    "name": "ipython",
    "version": 3
   },
   "file_extension": ".py",
   "mimetype": "text/x-python",
   "name": "python",
   "nbconvert_exporter": "python",
   "pygments_lexer": "ipython3",
   "version": "3.11.5"
  }
 },
 "nbformat": 4,
 "nbformat_minor": 5
}
