{
 "cells": [
  {
   "cell_type": "code",
   "execution_count": 1,
   "id": "71197f79",
   "metadata": {},
   "outputs": [
    {
     "name": "stdout",
     "output_type": "stream",
     "text": [
      "India\n"
     ]
    }
   ],
   "source": [
    "a = \"India\"\n",
    "print(a) "
   ]
  },
  {
   "cell_type": "code",
   "execution_count": 2,
   "id": "a8bd4604",
   "metadata": {},
   "outputs": [
    {
     "data": {
      "text/plain": [
       "str"
      ]
     },
     "execution_count": 2,
     "metadata": {},
     "output_type": "execute_result"
    }
   ],
   "source": [
    "type(a)"
   ]
  },
  {
   "cell_type": "code",
   "execution_count": 3,
   "id": "66cc0e56",
   "metadata": {},
   "outputs": [
    {
     "data": {
      "text/plain": [
       "5"
      ]
     },
     "execution_count": 3,
     "metadata": {},
     "output_type": "execute_result"
    }
   ],
   "source": [
    "len(a)"
   ]
  },
  {
   "cell_type": "raw",
   "id": "067ac778",
   "metadata": {},
   "source": [
    "Pre-defined functions \n",
    "\n",
    "user defined functions - set of instructions and call/execute under a single name/identifier\n",
    "\n",
    "def - define the function\n",
    "\n",
    "--------------------- to create/define a function------------\n",
    "def <function name> (optional parameters/arguments):\n",
    "        <statement> or <set of statements>\n",
    "        <optional return value>"
   ]
  },
  {
   "cell_type": "code",
   "execution_count": 5,
   "id": "2e76cc09",
   "metadata": {},
   "outputs": [],
   "source": [
    "# UDF with no arugmennt and no return value\n",
    "def greetings():\n",
    "    print('Hello')"
   ]
  },
  {
   "cell_type": "code",
   "execution_count": 6,
   "id": "4809a13f",
   "metadata": {},
   "outputs": [
    {
     "name": "stdout",
     "output_type": "stream",
     "text": [
      "Hello\n"
     ]
    }
   ],
   "source": [
    "greetings()"
   ]
  },
  {
   "cell_type": "code",
   "execution_count": 7,
   "id": "6ca7e53d",
   "metadata": {},
   "outputs": [],
   "source": [
    "# 1-parameter\n",
    "\n",
    "def greetings(name): #name-parameter/argument\n",
    "    print('Hello '+name)"
   ]
  },
  {
   "cell_type": "code",
   "execution_count": 8,
   "id": "a2242d9c",
   "metadata": {},
   "outputs": [
    {
     "name": "stdout",
     "output_type": "stream",
     "text": [
      "Hello Chennai\n"
     ]
    }
   ],
   "source": [
    "greetings('Chennai') # calling function/ function execution"
   ]
  },
  {
   "cell_type": "code",
   "execution_count": 9,
   "id": "49682c08",
   "metadata": {},
   "outputs": [],
   "source": [
    "# multi parameter\n",
    "\n",
    "def greetings(fname,lname): #name-parameter/argument\n",
    "    print('Welcome '+fname + ' and '+lname)"
   ]
  },
  {
   "cell_type": "code",
   "execution_count": 10,
   "id": "bd5f5d34",
   "metadata": {},
   "outputs": [
    {
     "name": "stdout",
     "output_type": "stream",
     "text": [
      "Welcome Rohit and Kohli\n"
     ]
    }
   ],
   "source": [
    "greetings(\"Rohit\", \"Kohli\")"
   ]
  },
  {
   "cell_type": "code",
   "execution_count": 24,
   "id": "7322d24e",
   "metadata": {},
   "outputs": [],
   "source": [
    "# including return value\n",
    "\n",
    "def gross_sal(allowance, salary):\n",
    "    res = allowance + salary\n",
    "    return res\n"
   ]
  },
  {
   "cell_type": "code",
   "execution_count": 14,
   "id": "3d8c50f1",
   "metadata": {},
   "outputs": [
    {
     "data": {
      "text/plain": [
       "21000"
      ]
     },
     "execution_count": 14,
     "metadata": {},
     "output_type": "execute_result"
    }
   ],
   "source": [
    "gross_sal(1000,20000)"
   ]
  },
  {
   "cell_type": "code",
   "execution_count": 16,
   "id": "56f707de",
   "metadata": {},
   "outputs": [
    {
     "name": "stdout",
     "output_type": "stream",
     "text": [
      "2000 30000 32000\n"
     ]
    }
   ],
   "source": [
    "e1_allow = 2000\n",
    "e1_sal = 30000\n",
    "e1_gross = gross_sal(e1_allow,e1_sal)\n",
    "print(e1_allow,e1_sal,e1_gross)"
   ]
  },
  {
   "cell_type": "code",
   "execution_count": 26,
   "id": "b9e67d6c",
   "metadata": {},
   "outputs": [
    {
     "name": "stdout",
     "output_type": "stream",
     "text": [
      "32000\n"
     ]
    }
   ],
   "source": [
    "e1_allow = 2000\n",
    "e1_sal = 30000\n",
    "print(gross_sal(e1_allow,e1_sal))"
   ]
  },
  {
   "cell_type": "code",
   "execution_count": 17,
   "id": "9599dd58",
   "metadata": {},
   "outputs": [
    {
     "data": {
      "text/plain": [
       "10500"
      ]
     },
     "execution_count": 17,
     "metadata": {},
     "output_type": "execute_result"
    }
   ],
   "source": [
    "# named arguments\n",
    "gross_sal(allowance=500, salary=10000)"
   ]
  },
  {
   "cell_type": "code",
   "execution_count": 18,
   "id": "ba406d76",
   "metadata": {},
   "outputs": [
    {
     "data": {
      "text/plain": [
       "10500"
      ]
     },
     "execution_count": 18,
     "metadata": {},
     "output_type": "execute_result"
    }
   ],
   "source": [
    "gross_sal(salary=10000, allowance=500)"
   ]
  },
  {
   "cell_type": "code",
   "execution_count": 20,
   "id": "e606be91",
   "metadata": {},
   "outputs": [
    {
     "name": "stdout",
     "output_type": "stream",
     "text": [
      "allowance= 500\n",
      "salary= 10000\n"
     ]
    },
    {
     "data": {
      "text/plain": [
       "10500"
      ]
     },
     "execution_count": 20,
     "metadata": {},
     "output_type": "execute_result"
    }
   ],
   "source": [
    "def gross_sal(allowance, salary):\n",
    "    print('allowance=',allowance)\n",
    "    print('salary=',salary)\n",
    "    res = allowance + salary\n",
    "    return res\n",
    "\n",
    "gross_sal(500,10000)"
   ]
  },
  {
   "cell_type": "code",
   "execution_count": 21,
   "id": "3d28cb5d",
   "metadata": {},
   "outputs": [
    {
     "name": "stdout",
     "output_type": "stream",
     "text": [
      "allowance= 10000\n",
      "salary= 500\n"
     ]
    },
    {
     "data": {
      "text/plain": [
       "10500"
      ]
     },
     "execution_count": 21,
     "metadata": {},
     "output_type": "execute_result"
    }
   ],
   "source": [
    "gross_sal(10000,500)"
   ]
  },
  {
   "cell_type": "code",
   "execution_count": 22,
   "id": "7aac3801",
   "metadata": {},
   "outputs": [
    {
     "name": "stdout",
     "output_type": "stream",
     "text": [
      "allowance= 500\n",
      "salary= 10000\n"
     ]
    },
    {
     "data": {
      "text/plain": [
       "10500"
      ]
     },
     "execution_count": 22,
     "metadata": {},
     "output_type": "execute_result"
    }
   ],
   "source": [
    "gross_sal(salary=10000, allowance=500)"
   ]
  },
  {
   "cell_type": "code",
   "execution_count": 23,
   "id": "5538c2a4",
   "metadata": {},
   "outputs": [
    {
     "name": "stdout",
     "output_type": "stream",
     "text": [
      "allowance= 500\n",
      "salary= 10000\n"
     ]
    },
    {
     "data": {
      "text/plain": [
       "10500"
      ]
     },
     "execution_count": 23,
     "metadata": {},
     "output_type": "execute_result"
    }
   ],
   "source": [
    "gross_sal(allowance=500, salary=10000)"
   ]
  },
  {
   "cell_type": "code",
   "execution_count": 29,
   "id": "489f6317",
   "metadata": {},
   "outputs": [],
   "source": [
    "# multiparameter/ multiple return\n",
    "\n",
    "def mops(a,b):\n",
    "    add = a + b\n",
    "    mul = a * b\n",
    "    sub = a - b\n",
    "    return add, mul, sub"
   ]
  },
  {
   "cell_type": "code",
   "execution_count": 30,
   "id": "407d4e00",
   "metadata": {},
   "outputs": [
    {
     "name": "stdout",
     "output_type": "stream",
     "text": [
      "(7, 12, 1)\n"
     ]
    }
   ],
   "source": [
    "res = mops(4,3)\n",
    "print(res)"
   ]
  },
  {
   "cell_type": "code",
   "execution_count": 35,
   "id": "98844e9f",
   "metadata": {},
   "outputs": [
    {
     "data": {
      "text/plain": [
       "tuple"
      ]
     },
     "execution_count": 35,
     "metadata": {},
     "output_type": "execute_result"
    }
   ],
   "source": [
    "type(res)"
   ]
  },
  {
   "cell_type": "code",
   "execution_count": 67,
   "id": "317dc5f1",
   "metadata": {},
   "outputs": [
    {
     "name": "stdout",
     "output_type": "stream",
     "text": [
      "7 <class 'int'>\n",
      "12\n",
      "1\n"
     ]
    }
   ],
   "source": [
    "a, m, s = res\n",
    "print(a, type(a))\n",
    "print(m)\n",
    "print(s)"
   ]
  },
  {
   "cell_type": "code",
   "execution_count": 33,
   "id": "7d0a475f",
   "metadata": {},
   "outputs": [
    {
     "data": {
      "text/plain": [
       "10500"
      ]
     },
     "execution_count": 33,
     "metadata": {},
     "output_type": "execute_result"
    }
   ],
   "source": [
    "def gross_sal(allowance, salary):\n",
    "    #print('allowance=',allowance)\n",
    "    #print('salary=',salary)\n",
    "    res = allowance + salary\n",
    "    return res\n",
    "\n",
    "gross_sal(500,10000)"
   ]
  },
  {
   "cell_type": "code",
   "execution_count": 34,
   "id": "bcd7c46e",
   "metadata": {},
   "outputs": [
    {
     "ename": "TypeError",
     "evalue": "gross_sal() missing 1 required positional argument: 'salary'",
     "output_type": "error",
     "traceback": [
      "\u001b[1;31m---------------------------------------------------------------------------\u001b[0m",
      "\u001b[1;31mTypeError\u001b[0m                                 Traceback (most recent call last)",
      "Cell \u001b[1;32mIn[34], line 1\u001b[0m\n\u001b[1;32m----> 1\u001b[0m gross_sal(\u001b[38;5;241m1000\u001b[39m)\n",
      "\u001b[1;31mTypeError\u001b[0m: gross_sal() missing 1 required positional argument: 'salary'"
     ]
    }
   ],
   "source": [
    "gross_sal(1000)"
   ]
  },
  {
   "cell_type": "code",
   "execution_count": 36,
   "id": "86831323",
   "metadata": {},
   "outputs": [],
   "source": [
    "# default parameter value\n",
    "def gross_sal(allowance, salary=10000):\n",
    "    res = allowance + salary\n",
    "    return res"
   ]
  },
  {
   "cell_type": "code",
   "execution_count": 37,
   "id": "b8ae1668",
   "metadata": {},
   "outputs": [
    {
     "data": {
      "text/plain": [
       "11000"
      ]
     },
     "execution_count": 37,
     "metadata": {},
     "output_type": "execute_result"
    }
   ],
   "source": [
    "gross_sal(1000)"
   ]
  },
  {
   "cell_type": "code",
   "execution_count": 38,
   "id": "2cda82ef",
   "metadata": {},
   "outputs": [
    {
     "data": {
      "text/plain": [
       "21000"
      ]
     },
     "execution_count": 38,
     "metadata": {},
     "output_type": "execute_result"
    }
   ],
   "source": [
    "gross_sal(1000,20000)"
   ]
  },
  {
   "cell_type": "code",
   "execution_count": 39,
   "id": "ec22a187",
   "metadata": {},
   "outputs": [],
   "source": [
    "# default parameter value\n",
    "def gross_sal(allowance=500, salary=10000):\n",
    "    res = allowance + salary\n",
    "    return res"
   ]
  },
  {
   "cell_type": "code",
   "execution_count": 40,
   "id": "e071b833",
   "metadata": {},
   "outputs": [
    {
     "data": {
      "text/plain": [
       "10500"
      ]
     },
     "execution_count": 40,
     "metadata": {},
     "output_type": "execute_result"
    }
   ],
   "source": [
    "gross_sal()"
   ]
  },
  {
   "cell_type": "code",
   "execution_count": 41,
   "id": "0df89bc3",
   "metadata": {},
   "outputs": [
    {
     "data": {
      "text/plain": [
       "3"
      ]
     },
     "execution_count": 41,
     "metadata": {},
     "output_type": "execute_result"
    }
   ],
   "source": [
    "gross_sal(1,2)"
   ]
  },
  {
   "cell_type": "code",
   "execution_count": 42,
   "id": "09e4adf1",
   "metadata": {},
   "outputs": [
    {
     "ename": "TypeError",
     "evalue": "gross_sal() missing 2 required positional arguments: 'allowance' and 'salary'",
     "output_type": "error",
     "traceback": [
      "\u001b[1;31m---------------------------------------------------------------------------\u001b[0m",
      "\u001b[1;31mTypeError\u001b[0m                                 Traceback (most recent call last)",
      "Cell \u001b[1;32mIn[42], line 6\u001b[0m\n\u001b[0;32m      3\u001b[0m     res \u001b[38;5;241m=\u001b[39m allowance \u001b[38;5;241m+\u001b[39m salary\n\u001b[0;32m      4\u001b[0m     \u001b[38;5;28;01mreturn\u001b[39;00m res\n\u001b[1;32m----> 6\u001b[0m gross_sal()\n",
      "\u001b[1;31mTypeError\u001b[0m: gross_sal() missing 2 required positional arguments: 'allowance' and 'salary'"
     ]
    }
   ],
   "source": [
    "# default parameter value\n",
    "def gross_sal(allowance, salary):\n",
    "    res = allowance + salary\n",
    "    return res\n",
    "\n",
    "gross_sal()"
   ]
  },
  {
   "cell_type": "code",
   "execution_count": 48,
   "id": "a372dc5b",
   "metadata": {},
   "outputs": [],
   "source": [
    "# multiple positional arguments\n",
    "def add_score(*args):\n",
    "    for i in args:\n",
    "        print('i=',i)\n",
    "        \n",
    "    res = sum(args)\n",
    "    print('sum=',res)\n",
    "    return res"
   ]
  },
  {
   "cell_type": "code",
   "execution_count": 50,
   "id": "0e19d70f",
   "metadata": {},
   "outputs": [
    {
     "name": "stdout",
     "output_type": "stream",
     "text": [
      "i= 1\n",
      "sum= 1\n",
      "1\n"
     ]
    }
   ],
   "source": [
    "print(add_score(1))  # 1 arugment\n"
   ]
  },
  {
   "cell_type": "code",
   "execution_count": 51,
   "id": "89bc4589",
   "metadata": {},
   "outputs": [
    {
     "name": "stdout",
     "output_type": "stream",
     "text": [
      "i= 1\n",
      "i= 2\n",
      "sum= 3\n",
      "3\n"
     ]
    }
   ],
   "source": [
    "\n",
    "print(add_score(1,2))  # 2 arg\n"
   ]
  },
  {
   "cell_type": "code",
   "execution_count": 52,
   "id": "c32b60c9",
   "metadata": {},
   "outputs": [
    {
     "name": "stdout",
     "output_type": "stream",
     "text": [
      "i= 1\n",
      "i= 2\n",
      "i= 3\n",
      "sum= 6\n",
      "6\n"
     ]
    }
   ],
   "source": [
    "\n",
    "print(add_score(1,2,3)) # 3 arg"
   ]
  },
  {
   "cell_type": "code",
   "execution_count": 54,
   "id": "37b17d71",
   "metadata": {},
   "outputs": [],
   "source": [
    "# multiple keyword arguments\n",
    "\n",
    "def add_score(**kwargs):\n",
    "    for k,v in kwargs.items():\n",
    "        print('key=',k,' value=',v)"
   ]
  },
  {
   "cell_type": "code",
   "execution_count": 55,
   "id": "f3670860",
   "metadata": {},
   "outputs": [
    {
     "name": "stdout",
     "output_type": "stream",
     "text": [
      "key= wk1  value= rahul\n",
      "key= wk2  value= pant\n"
     ]
    }
   ],
   "source": [
    "add_score(wk1=\"rahul\",wk2=\"pant\")"
   ]
  },
  {
   "cell_type": "code",
   "execution_count": 63,
   "id": "b81ddb39",
   "metadata": {},
   "outputs": [],
   "source": [
    "def check_param(**fields):\n",
    "    k = fields.keys()\n",
    "    if 'eid' not in k or 'ename' not in k:\n",
    "        result = \"incomplete data to process\"\n",
    "    else:\n",
    "        result = \"data accepted for processing\"\n",
    "\n",
    "    #print(result)\n",
    "    return result\n",
    "\n",
    "\n"
   ]
  },
  {
   "cell_type": "code",
   "execution_count": null,
   "id": "e7ce208b",
   "metadata": {},
   "outputs": [],
   "source": [
    "def check_param(**fields):\n",
    "    k = fields.keys()\n",
    "    if 'eid' not in k:\n",
    "        result = \"incomplete data to process\"\n",
    "    elif 'ename' not in k:\n",
    "        result = \"incomplete data to process\"\n",
    "    else:\n",
    "        result = \"data accepted for processing\"\n",
    "\n",
    "    #print(result)\n",
    "    return result\n"
   ]
  },
  {
   "cell_type": "code",
   "execution_count": 64,
   "id": "3a85bdc8",
   "metadata": {},
   "outputs": [
    {
     "data": {
      "text/plain": [
       "'data accepted for processing'"
      ]
     },
     "execution_count": 64,
     "metadata": {},
     "output_type": "execute_result"
    }
   ],
   "source": [
    "check_param(eid=101, ename=\"messi\", dept='non-tech', reamrks='sport quota')"
   ]
  },
  {
   "cell_type": "code",
   "execution_count": 66,
   "id": "74284810",
   "metadata": {},
   "outputs": [
    {
     "name": "stdout",
     "output_type": "stream",
     "text": [
      "The results is: incomplete data to process\n"
     ]
    }
   ],
   "source": [
    "print(\"The results is:\",check_param(ename=\"messi\", dept='non-tech', reamrks='sport quota')) "
   ]
  },
  {
   "cell_type": "code",
   "execution_count": 68,
   "id": "90fd1f86",
   "metadata": {},
   "outputs": [
    {
     "data": {
      "text/plain": [
       "'incomplete data to process'"
      ]
     },
     "execution_count": 68,
     "metadata": {},
     "output_type": "execute_result"
    }
   ],
   "source": [
    "check_param(eid=101, dept='non-tech', reamrks='sport quota')"
   ]
  },
  {
   "cell_type": "code",
   "execution_count": 69,
   "id": "313ecea8",
   "metadata": {},
   "outputs": [
    {
     "data": {
      "text/plain": [
       "'data accepted for processing'"
      ]
     },
     "execution_count": 69,
     "metadata": {},
     "output_type": "execute_result"
    }
   ],
   "source": [
    "check_param(eid=101, ename=\"messi\")"
   ]
  },
  {
   "cell_type": "code",
   "execution_count": null,
   "id": "bca379d6",
   "metadata": {},
   "outputs": [],
   "source": [
    "create a user defined function to \n",
    "convert a mixed case sentence to all-lower case sentence \n",
    "without using any pre-defined funtions\n",
    "\n",
    "ignore/leave special characters, numbers, spaces, etc\n",
    "\n",
    "\n",
    "input string: [JAN, FEB, MAR] are the 3-months of the FIRST Quarter !!!\n",
    "output string:[jan, feb, mar] are the 3-months of the first quarter !!!\n",
    "    \n",
    "    "
   ]
  },
  {
   "cell_type": "code",
   "execution_count": 70,
   "id": "33fde1aa",
   "metadata": {},
   "outputs": [],
   "source": [
    "import csv\n",
    "with open('beverage.csv','r') as f:\n",
    "    juice = list(csv.reader(f,delimiter=';'))\n"
   ]
  },
  {
   "cell_type": "code",
   "execution_count": 71,
   "id": "76b666f6",
   "metadata": {},
   "outputs": [
    {
     "data": {
      "text/plain": [
       "list"
      ]
     },
     "execution_count": 71,
     "metadata": {},
     "output_type": "execute_result"
    }
   ],
   "source": [
    "type(juice)"
   ]
  },
  {
   "cell_type": "code",
   "execution_count": 72,
   "id": "052e42c5",
   "metadata": {},
   "outputs": [
    {
     "data": {
      "text/plain": [
       "[['fixed acidity',\n",
       "  'volatile acidity',\n",
       "  'citric acid',\n",
       "  'residual sugar',\n",
       "  'chlorides',\n",
       "  'free sulfur dioxide',\n",
       "  'total sulfur dioxide',\n",
       "  'density',\n",
       "  'pH',\n",
       "  'sulphates',\n",
       "  'alcohol',\n",
       "  'quality']]"
      ]
     },
     "execution_count": 72,
     "metadata": {},
     "output_type": "execute_result"
    }
   ],
   "source": [
    "juice[:1]"
   ]
  },
  {
   "cell_type": "code",
   "execution_count": 73,
   "id": "066ec48c",
   "metadata": {},
   "outputs": [
    {
     "name": "stdout",
     "output_type": "stream",
     "text": [
      "1600 12\n"
     ]
    }
   ],
   "source": [
    "nrows = len(juice)\n",
    "ncols = len(juice[0])\n",
    "print(nrows, ncols)"
   ]
  },
  {
   "cell_type": "code",
   "execution_count": 74,
   "id": "9a6606c5",
   "metadata": {},
   "outputs": [
    {
     "data": {
      "text/plain": [
       "[['fixed acidity',\n",
       "  'volatile acidity',\n",
       "  'citric acid',\n",
       "  'residual sugar',\n",
       "  'chlorides',\n",
       "  'free sulfur dioxide',\n",
       "  'total sulfur dioxide',\n",
       "  'density',\n",
       "  'pH',\n",
       "  'sulphates',\n",
       "  'alcohol',\n",
       "  'quality'],\n",
       " ['7.4',\n",
       "  '0.7',\n",
       "  '0',\n",
       "  '1.9',\n",
       "  '0.076',\n",
       "  '11',\n",
       "  '34',\n",
       "  '0.9978',\n",
       "  '3.51',\n",
       "  '0.56',\n",
       "  '9.4',\n",
       "  '5']]"
      ]
     },
     "execution_count": 74,
     "metadata": {},
     "output_type": "execute_result"
    }
   ],
   "source": [
    "juice[:2]"
   ]
  },
  {
   "cell_type": "code",
   "execution_count": null,
   "id": "de4dd71a",
   "metadata": {},
   "outputs": [],
   "source": [
    "['fixed acidity', 0 \n",
    "  'volatile acidity', 1\n",
    "  'citric acid', 2\n",
    "  'residual sugar', 3\n",
    "  'chlorides', 4\n",
    "  'free sulfur dioxide', 5 \n",
    "  'total sulfur dioxide',6\n",
    "  'density',7\n",
    "  'pH',8\n",
    "  'sulphates',9\n",
    "  'alcohol',10\n",
    "  'quality'],11\n",
    "\n",
    "ncols = 12\n",
    "ncols-1 = 11"
   ]
  },
  {
   "cell_type": "code",
   "execution_count": 81,
   "id": "a112c2bb",
   "metadata": {
    "scrolled": true
   },
   "outputs": [
    {
     "name": "stdout",
     "output_type": "stream",
     "text": [
      "[5, 5, 5, 6, 5, 5, 5, 7, 7, 5, 5, 5, 5, 5, 5, 5, 7, 5, 4, 6, 6, 5, 5, 5, 6, 5, 5, 5, 5, 6, 5, 6, 5, 6, 5, 6, 6, 7, 4, 5, 5, 4, 6, 5, 5, 4, 5, 5, 5, 5, 5, 6, 6, 5, 6, 5, 5, 5, 5, 6, 5, 5, 7, 5, 5, 5, 5, 5, 5, 6, 6, 5, 5, 4, 5, 5, 5, 6, 5, 4, 5, 5, 5, 5, 6, 5, 6, 5, 5, 5, 5, 6, 5, 5, 4, 6, 5, 5, 5, 6, 6, 6, 6, 5, 5, 5, 5, 5, 6, 5, 5, 5, 5, 6, 5, 6, 6, 6, 6, 6, 5, 6, 5, 5, 5, 5, 5, 5, 7, 5, 5, 5, 5, 6, 6, 5, 5, 5, 5, 5, 5, 5, 6, 5, 6, 5, 5, 5, 6, 6, 6, 4, 5, 5, 5, 5, 5, 5, 5, 6, 5, 4, 6, 5, 5, 5, 5, 4, 6, 5, 4, 6, 6, 6, 5, 5, 5, 6, 5, 5, 5, 5, 5, 5, 6, 5, 5, 5, 5, 5, 5, 6, 5, 5, 5, 5, 5, 6, 7, 4, 7, 5, 5, 5, 6, 7, 7, 5, 5, 7, 6, 6, 6, 5, 6, 5, 5, 5, 5, 5, 6, 5, 5, 6, 4, 6, 6, 5, 6, 5, 7, 6, 6, 5, 6, 6, 6, 6, 6, 6, 5, 6, 6, 7, 7, 6, 5, 5, 6, 6, 6, 6, 5, 5, 6, 5, 5, 5, 5, 7, 5, 4, 5, 5, 5, 7, 4, 8, 6, 6, 6, 6, 5, 5, 5, 6, 6, 6, 8, 7, 6, 7, 5, 7, 5, 5, 6, 6, 7, 5, 7, 5, 6, 6, 6, 5, 5, 5, 5, 5, 6, 6, 5, 5, 5, 6, 5, 6, 6, 6, 6, 6, 6, 5, 5, 6, 5, 6, 7, 6, 7, 5, 5, 6, 6, 6, 7, 5, 6, 5, 6, 6, 6, 5, 7, 7, 6, 5, 6, 7, 6, 6, 6, 6, 6, 5, 7, 6, 6, 6, 6, 6, 5, 5, 6, 6, 5, 7, 7, 6, 5, 6, 5, 5, 7, 6, 7, 5, 5, 7, 5, 6, 6, 5, 6, 7, 6, 7, 6, 6, 6, 6, 6, 6, 5, 6, 6, 6, 6, 7, 8, 6, 5, 5, 5, 7, 5, 6, 6, 5, 5, 6, 6, 6, 5, 6, 6, 7, 6, 4, 6, 5, 5, 7, 5, 5, 6, 5, 6, 5, 7, 7, 5, 7, 5, 7, 6, 6, 5, 6, 7, 5, 6, 5, 6, 5, 6, 6, 6, 5, 8, 6, 7, 7, 7, 6, 5, 5, 6, 6, 6, 6, 6, 7, 5, 8, 5, 5, 7, 3, 6, 5, 5, 5, 6, 5, 6, 6, 6, 5, 5, 6, 6, 5, 6, 5, 5, 6, 5, 6, 5, 8, 5, 5, 6, 5, 5, 6, 7, 6, 6, 7, 7, 6, 6, 8, 6, 5, 8, 6, 6, 7, 7, 7, 7, 7, 7, 6, 6, 7, 5, 6, 6, 7, 7, 5, 6, 3, 6, 5, 6, 5, 5, 5, 5, 5, 5, 6, 6, 5, 6, 5, 5, 6, 6, 6, 5, 6, 7, 5, 5, 6, 5, 6, 6, 5, 6, 6, 6, 6, 6, 6, 6, 5, 5, 5, 6, 5, 6, 6, 5, 5, 5, 6, 6, 5, 6, 6, 6, 6, 6, 6, 5, 4, 6, 6, 4, 5, 5, 6, 5, 5, 5, 7, 7, 6, 7, 5, 8, 7, 5, 6, 5, 5, 5, 5, 6, 6, 6, 6, 4, 6, 5, 6, 6, 6, 7, 6, 6, 6, 5, 5, 6, 5, 6, 5, 5, 6, 5, 5, 5, 5, 5, 6, 5, 5, 5, 5, 6, 5, 6, 5, 6, 4, 5, 5, 5, 5, 7, 6, 5, 5, 5, 5, 5, 7, 5, 4, 7, 6, 5, 5, 5, 6, 5, 5, 5, 7, 6, 4, 6, 5, 6, 6, 5, 5, 6, 6, 5, 6, 5, 5, 5, 5, 6, 5, 6, 5, 5, 5, 5, 6, 5, 5, 5, 5, 5, 5, 5, 5, 3, 5, 5, 5, 5, 6, 6, 6, 5, 6, 6, 6, 6, 4, 4, 5, 5, 5, 6, 6, 5, 5, 5, 5, 5, 6, 5, 5, 5, 5, 5, 5, 5, 5, 4, 5, 6, 5, 5, 6, 5, 5, 5, 5, 5, 5, 5, 6, 5, 5, 6, 5, 5, 5, 5, 6, 6, 5, 6, 6, 5, 5, 5, 5, 6, 6, 6, 5, 5, 5, 5, 5, 6, 5, 6, 6, 5, 5, 6, 5, 6, 5, 5, 6, 6, 5, 6, 6, 5, 5, 6, 5, 5, 5, 5, 5, 5, 6, 6, 5, 6, 5, 6, 5, 6, 5, 5, 7, 6, 6, 5, 5, 7, 6, 6, 7, 7, 7, 5, 6, 5, 6, 5, 4, 6, 5, 6, 6, 5, 5, 5, 7, 5, 5, 5, 5, 7, 5, 8, 6, 4, 6, 3, 4, 5, 5, 7, 7, 7, 5, 7, 5, 6, 5, 6, 5, 5, 6, 5, 5, 5, 5, 5, 6, 6, 7, 6, 7, 7, 6, 5, 6, 5, 5, 5, 5, 6, 6, 6, 6, 6, 5, 4, 7, 7, 7, 4, 6, 6, 5, 5, 6, 6, 5, 6, 5, 6, 7, 6, 5, 5, 5, 6, 5, 6, 6, 7, 6, 7, 3, 5, 7, 7, 7, 7, 5, 5, 6, 6, 6, 6, 6, 6, 7, 6, 6, 5, 6, 6, 6, 5, 6, 6, 6, 5, 7, 6, 4, 5, 7, 5, 5, 6, 5, 5, 6, 6, 4, 7, 5, 7, 7, 7, 7, 7, 7, 7, 7, 7, 7, 7, 7, 7, 7, 6, 5, 6, 6, 7, 5, 6, 5, 5, 6, 6, 6, 7, 5, 6, 5, 6, 6, 7, 5, 7, 5, 5, 5, 7, 5, 6, 5, 6, 6, 5, 6, 7, 5, 5, 6, 5, 5, 6, 5, 5, 6, 7, 7, 6, 6, 7, 7, 7, 7, 5, 7, 7, 7, 7, 5, 7, 6, 5, 6, 6, 6, 7, 6, 6, 5, 6, 6, 5, 6, 7, 6, 6, 5, 6, 7, 7, 7, 5, 6, 6, 7, 7, 5, 7, 6, 5, 6, 6, 7, 6, 6, 6, 5, 6, 6, 5, 5, 5, 7, 6, 6, 7, 5, 7, 7, 6, 8, 6, 6, 6, 6, 7, 7, 7, 5, 7, 5, 6, 6, 5, 7, 6, 5, 5, 7, 6, 7, 6, 6, 6, 5, 7, 6, 7, 7, 8, 6, 6, 7, 6, 5, 6, 5, 7, 5, 6, 6, 6, 6, 6, 5, 6, 7, 5, 6, 6, 7, 6, 6, 6, 6, 6, 6, 6, 5, 8, 6, 6, 6, 4, 7, 6, 6, 5, 6, 6, 5, 7, 7, 7, 6, 6, 6, 5, 6, 6, 6, 6, 6, 5, 6, 6, 7, 6, 6, 7, 6, 5, 6, 6, 5, 7, 7, 6, 5, 7, 6, 7, 5, 5, 5, 5, 7, 6, 6, 6, 6, 6, 6, 6, 6, 4, 7, 5, 6, 6, 5, 6, 5, 5, 6, 5, 6, 5, 4, 6, 5, 7, 5, 6, 6, 6, 6, 6, 6, 6, 7, 8, 5, 7, 7, 7, 5, 7, 7, 6, 5, 6, 6, 6, 6, 6, 6, 6, 6, 6, 6, 6, 6, 6, 5, 5, 5, 7, 5, 6, 5, 5, 4, 6, 4, 6, 6, 4, 4, 5, 5, 6, 5, 6, 5, 5, 5, 6, 6, 6, 5, 5, 5, 5, 5, 5, 6, 6, 6, 5, 4, 5, 4, 6, 6, 6, 6, 6, 8, 6, 6, 5, 5, 6, 6, 4, 6, 6, 7, 6, 6, 6, 6, 5, 5, 6, 5, 5, 5, 5, 6, 6, 4, 6, 5, 5, 6, 6, 3, 6, 6, 6, 5, 5, 5, 5, 4, 5, 5, 5, 6, 5, 6, 6, 6, 6, 6, 6, 6, 5, 6, 5, 7, 6, 6, 6, 6, 5, 6, 6, 5, 6, 5, 5, 6, 5, 5, 5, 6, 6, 6, 6, 6, 5, 6, 5, 5, 5, 5, 5, 6, 5, 5, 5, 5, 5, 6, 5, 6, 5, 5, 6, 4, 6, 5, 5, 6, 6, 4, 5, 6, 5, 5, 3, 5, 5, 6, 6, 6, 6, 5, 5, 5, 5, 5, 5, 5, 5, 5, 6, 5, 5, 5, 5, 6, 5, 5, 7, 6, 5, 5, 6, 8, 6, 7, 6, 6, 7, 6, 6, 6, 6, 5, 5, 5, 5, 7, 5, 5, 5, 5, 6, 4, 6, 6, 6, 5, 5, 5, 5, 6, 6, 7, 6, 6, 5, 5, 5, 6, 7, 6, 5, 5, 6, 6, 5, 5, 5, 8, 7, 7, 7, 5, 6, 6, 6, 5, 5, 7, 6, 4, 6, 6, 5, 5, 7, 4, 7, 3, 5, 5, 6, 5, 5, 7, 5, 7, 3, 5, 4, 5, 4, 5, 4, 5, 5, 5, 5, 6, 6, 5, 5, 5, 7, 6, 5, 6, 6, 6, 5, 5, 5, 6, 6, 3, 6, 6, 6, 5, 6, 5, 6, 6, 6, 6, 5, 6, 5, 5, 6, 4, 5, 5, 6, 5, 6, 6, 6, 6, 6, 5, 6, 5, 7, 6, 6, 6, 5, 5, 6, 7, 6, 6, 7, 6, 5, 5, 5, 8, 5, 5, 6, 5, 6, 7, 5, 6, 5, 5, 5, 5, 5, 5, 5, 6, 6, 5, 5, 6, 6, 6, 5, 6, 6, 6, 6, 6, 6, 5, 6, 5, 5, 5, 7, 6, 6, 6, 6, 5, 6, 6, 6, 6, 5, 6, 6, 5, 6]\n"
     ]
    }
   ],
   "source": [
    "# find the mean of the quality\n",
    "qualities = []\n",
    "for item in juice[1:]:\n",
    "    qualities.append(int(item[ncols-1]))\n",
    "print(qualities)\n",
    "\n"
   ]
  },
  {
   "cell_type": "code",
   "execution_count": 82,
   "id": "9f52306b",
   "metadata": {},
   "outputs": [
    {
     "name": "stdout",
     "output_type": "stream",
     "text": [
      "Sum: 9012\n",
      "Len: 1599\n",
      "Mean: 5.6360225140712945\n"
     ]
    }
   ],
   "source": [
    "quality_mean = sum(qualities)/len(qualities)\n",
    "\n",
    "print('Sum:', sum(qualities))\n",
    "print('Len:', len(qualities))\n",
    "print('Mean:', quality_mean)"
   ]
  },
  {
   "cell_type": "code",
   "execution_count": null,
   "id": "5631f154",
   "metadata": {},
   "outputs": [],
   "source": []
  }
 ],
 "metadata": {
  "kernelspec": {
   "display_name": "Python 3 (ipykernel)",
   "language": "python",
   "name": "python3"
  },
  "language_info": {
   "codemirror_mode": {
    "name": "ipython",
    "version": 3
   },
   "file_extension": ".py",
   "mimetype": "text/x-python",
   "name": "python",
   "nbconvert_exporter": "python",
   "pygments_lexer": "ipython3",
   "version": "3.11.5"
  }
 },
 "nbformat": 4,
 "nbformat_minor": 5
}
