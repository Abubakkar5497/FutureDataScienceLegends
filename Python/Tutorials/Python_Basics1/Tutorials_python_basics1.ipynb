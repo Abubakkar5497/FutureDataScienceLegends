{
 "cells": [
  {
   "cell_type": "code",
   "execution_count": null,
   "id": "162fb0af",
   "metadata": {},
   "outputs": [],
   "source": [
    "#identifiers\n",
    "name\n",
    "age\n",
    "gender\n",
    "a\n",
    "b\n",
    "c\n"
   ]
  },
  {
   "cell_type": "code",
   "execution_count": 1,
   "id": "aaf5dd9c",
   "metadata": {},
   "outputs": [
    {
     "ename": "SyntaxError",
     "evalue": "cannot assign to True (1770609971.py, line 1)",
     "output_type": "error",
     "traceback": [
      "\u001b[1;36m  Cell \u001b[1;32mIn[1], line 1\u001b[1;36m\u001b[0m\n\u001b[1;33m    True = 1\u001b[0m\n\u001b[1;37m    ^\u001b[0m\n\u001b[1;31mSyntaxError\u001b[0m\u001b[1;31m:\u001b[0m cannot assign to True\n"
     ]
    }
   ],
   "source": [
    "# keywords cannot be used as an identifier\n",
    "True = 1"
   ]
  },
  {
   "cell_type": "code",
   "execution_count": 2,
   "id": "45bb01d6",
   "metadata": {},
   "outputs": [
    {
     "name": "stderr",
     "output_type": "stream",
     "text": [
      "<>:1: SyntaxWarning: invalid decimal literal\n",
      "<>:1: SyntaxWarning: invalid decimal literal\n",
      "C:\\Users\\MZ\\AppData\\Local\\Temp\\ipykernel_22376\\971806876.py:1: SyntaxWarning: invalid decimal literal\n",
      "  2in1 = \"philips\"\n"
     ]
    },
    {
     "ename": "SyntaxError",
     "evalue": "invalid syntax (971806876.py, line 1)",
     "output_type": "error",
     "traceback": [
      "\u001b[1;36m  Cell \u001b[1;32mIn[2], line 1\u001b[1;36m\u001b[0m\n\u001b[1;33m    2in1 = \"philips\"\u001b[0m\n\u001b[1;37m     ^\u001b[0m\n\u001b[1;31mSyntaxError\u001b[0m\u001b[1;31m:\u001b[0m invalid syntax\n"
     ]
    }
   ],
   "source": [
    "# should not start with numbers\n",
    "2in1 = \"philips\""
   ]
  },
  {
   "cell_type": "code",
   "execution_count": 3,
   "id": "1f39c547",
   "metadata": {},
   "outputs": [
    {
     "ename": "SyntaxError",
     "evalue": "invalid syntax (878740916.py, line 1)",
     "output_type": "error",
     "traceback": [
      "\u001b[1;36m  Cell \u001b[1;32mIn[3], line 1\u001b[1;36m\u001b[0m\n\u001b[1;33m    first name = \"Raja\"\u001b[0m\n\u001b[1;37m          ^\u001b[0m\n\u001b[1;31mSyntaxError\u001b[0m\u001b[1;31m:\u001b[0m invalid syntax\n"
     ]
    }
   ],
   "source": [
    "# no spaces(special characters) allowed in the identifier\n",
    "first name = \"Raja\"\n",
    "second name = \"ram\"\n"
   ]
  },
  {
   "cell_type": "code",
   "execution_count": 4,
   "id": "d926a2b1",
   "metadata": {},
   "outputs": [],
   "source": [
    "# allowed - special characters (_) - underscore\n",
    "first_name = \"Raja\"\n",
    "second_name = \"ram\"\n",
    "\n"
   ]
  },
  {
   "cell_type": "code",
   "execution_count": 5,
   "id": "df2b714a",
   "metadata": {},
   "outputs": [
    {
     "name": "stdout",
     "output_type": "stream",
     "text": [
      "Raja\n"
     ]
    }
   ],
   "source": [
    "print(first_name)"
   ]
  },
  {
   "cell_type": "code",
   "execution_count": 6,
   "id": "10658bb3",
   "metadata": {},
   "outputs": [
    {
     "name": "stdout",
     "output_type": "stream",
     "text": [
      "ram\n"
     ]
    }
   ],
   "source": [
    "print(second_name)"
   ]
  },
  {
   "cell_type": "code",
   "execution_count": 7,
   "id": "6411859f",
   "metadata": {},
   "outputs": [
    {
     "name": "stdout",
     "output_type": "stream",
     "text": [
      "Raja ram\n"
     ]
    }
   ],
   "source": [
    "print(first_name, second_name)"
   ]
  },
  {
   "cell_type": "code",
   "execution_count": 8,
   "id": "419b0e40",
   "metadata": {},
   "outputs": [],
   "source": [
    "item_2in1 = 'philips'"
   ]
  },
  {
   "cell_type": "code",
   "execution_count": 9,
   "id": "e0c4fad7",
   "metadata": {},
   "outputs": [
    {
     "name": "stdout",
     "output_type": "stream",
     "text": [
      "philips\n"
     ]
    }
   ],
   "source": [
    "print(item_2in1)"
   ]
  },
  {
   "cell_type": "code",
   "execution_count": 10,
   "id": "38de8bc5",
   "metadata": {},
   "outputs": [
    {
     "name": "stdout",
     "output_type": "stream",
     "text": [
      "Rajmohan Mohanraj\n"
     ]
    }
   ],
   "source": [
    "Name = \"Mohanraj\"\n",
    "name = \"Rajmohan\"\n",
    "print(name, Name)"
   ]
  },
  {
   "cell_type": "code",
   "execution_count": null,
   "id": "98c61e5a",
   "metadata": {},
   "outputs": [],
   "source": [
    "# the methods to print two variables in two lines"
   ]
  },
  {
   "cell_type": "code",
   "execution_count": 11,
   "id": "7f4b3cda",
   "metadata": {},
   "outputs": [
    {
     "name": "stdout",
     "output_type": "stream",
     "text": [
      "Rajmohan\n",
      "Mohanraj\n"
     ]
    }
   ],
   "source": [
    "print(name)\n",
    "print(Name)"
   ]
  },
  {
   "cell_type": "code",
   "execution_count": 12,
   "id": "a53b1b4f",
   "metadata": {},
   "outputs": [
    {
     "name": "stdout",
     "output_type": "stream",
     "text": [
      "Rajmohan \n",
      " Mohanraj\n"
     ]
    }
   ],
   "source": [
    "print(name,'\\n',Name)"
   ]
  },
  {
   "cell_type": "code",
   "execution_count": 14,
   "id": "e86174bc",
   "metadata": {},
   "outputs": [
    {
     "name": "stdout",
     "output_type": "stream",
     "text": [
      "Rajmohan\n",
      "Mohanraj\n"
     ]
    }
   ],
   "source": [
    "print(name,Name,sep='\\n')"
   ]
  },
  {
   "cell_type": "code",
   "execution_count": null,
   "id": "11f15710",
   "metadata": {},
   "outputs": [],
   "source": []
  },
  {
   "cell_type": "code",
   "execution_count": 21,
   "id": "72a3da71",
   "metadata": {},
   "outputs": [
    {
     "ename": "SyntaxError",
     "evalue": "invalid decimal literal (3442492926.py, line 3)",
     "output_type": "error",
     "traceback": [
      "\u001b[1;36m  Cell \u001b[1;32mIn[21], line 3\u001b[1;36m\u001b[0m\n\u001b[1;33m    01_street = \"Mount Road\" = invalid\u001b[0m\n\u001b[1;37m      ^\u001b[0m\n\u001b[1;31mSyntaxError\u001b[0m\u001b[1;31m:\u001b[0m invalid decimal literal\n"
     ]
    }
   ],
   "source": [
    "# Exercise 1:\n",
    "\n",
    "01_street = \"Mount Road\" = invalid\n",
    "print(01_street)\n"
   ]
  },
  {
   "cell_type": "code",
   "execution_count": 19,
   "id": "b3b60528",
   "metadata": {},
   "outputs": [
    {
     "name": "stdout",
     "output_type": "stream",
     "text": [
      "2024\n"
     ]
    }
   ],
   "source": [
    "year = 2024\n",
    "print(year)"
   ]
  },
  {
   "cell_type": "code",
   "execution_count": 20,
   "id": "fbaac0c6",
   "metadata": {},
   "outputs": [
    {
     "name": "stdout",
     "output_type": "stream",
     "text": [
      "we23\n"
     ]
    }
   ],
   "source": [
    "batch_code = 'we23'\n",
    "print(batch_code)"
   ]
  },
  {
   "cell_type": "code",
   "execution_count": 22,
   "id": "69471408",
   "metadata": {},
   "outputs": [
    {
     "ename": "SyntaxError",
     "evalue": "cannot assign to expression (1348212528.py, line 1)",
     "output_type": "error",
     "traceback": [
      "\u001b[1;36m  Cell \u001b[1;32mIn[22], line 1\u001b[1;36m\u001b[0m\n\u001b[1;33m    my-year-of-birth = 1950 = invalid\u001b[0m\n\u001b[1;37m    ^\u001b[0m\n\u001b[1;31mSyntaxError\u001b[0m\u001b[1;31m:\u001b[0m cannot assign to expression\n"
     ]
    }
   ],
   "source": [
    "my-year-of-birth = 1950 = invalid\n",
    "print(my-year-of-birth)"
   ]
  },
  {
   "cell_type": "code",
   "execution_count": 23,
   "id": "c35c43cd",
   "metadata": {},
   "outputs": [
    {
     "name": "stdout",
     "output_type": "stream",
     "text": [
      "Mount Road 2024 we23 1950\n"
     ]
    }
   ],
   "source": [
    "street_01 = \"Mount Road\" \n",
    "year = 2024\n",
    "batch_code = 'we23'\n",
    "my_year_of_birth = 1950 \n",
    "\n",
    "print(street_01, year, batch_code , my_year_of_birth)\n"
   ]
  },
  {
   "cell_type": "code",
   "execution_count": 24,
   "id": "2fb17e6c",
   "metadata": {},
   "outputs": [
    {
     "name": "stdout",
     "output_type": "stream",
     "text": [
      "1\n"
     ]
    }
   ],
   "source": [
    "a = 1\n",
    "print(a)"
   ]
  },
  {
   "cell_type": "code",
   "execution_count": 25,
   "id": "3e50d5e7",
   "metadata": {},
   "outputs": [
    {
     "ename": "NameError",
     "evalue": "name 'b' is not defined",
     "output_type": "error",
     "traceback": [
      "\u001b[1;31m---------------------------------------------------------------------------\u001b[0m",
      "\u001b[1;31mNameError\u001b[0m                                 Traceback (most recent call last)",
      "Cell \u001b[1;32mIn[25], line 1\u001b[0m\n\u001b[1;32m----> 1\u001b[0m \u001b[38;5;28mprint\u001b[39m(b)\n",
      "\u001b[1;31mNameError\u001b[0m: name 'b' is not defined"
     ]
    }
   ],
   "source": [
    "print(b)"
   ]
  },
  {
   "cell_type": "code",
   "execution_count": 26,
   "id": "6f7b82db",
   "metadata": {},
   "outputs": [
    {
     "name": "stdout",
     "output_type": "stream",
     "text": [
      "10 10\n"
     ]
    }
   ],
   "source": [
    "a = 10\n",
    "b = 10\n",
    "print(a,b)"
   ]
  },
  {
   "cell_type": "code",
   "execution_count": 27,
   "id": "744b076b",
   "metadata": {},
   "outputs": [
    {
     "name": "stdout",
     "output_type": "stream",
     "text": [
      "10 10\n"
     ]
    }
   ],
   "source": [
    "# assign one value to multiple variables \n",
    "a = b = 10\n",
    "print(a,b)"
   ]
  },
  {
   "cell_type": "code",
   "execution_count": 28,
   "id": "5c75768c",
   "metadata": {},
   "outputs": [
    {
     "name": "stdout",
     "output_type": "stream",
     "text": [
      "10 20\n"
     ]
    }
   ],
   "source": [
    "a = 10\n",
    "b = 20\n",
    "print(a,b)"
   ]
  },
  {
   "cell_type": "code",
   "execution_count": 29,
   "id": "f8a8ce16",
   "metadata": {},
   "outputs": [
    {
     "name": "stdout",
     "output_type": "stream",
     "text": [
      "10 20\n"
     ]
    }
   ],
   "source": [
    "# assign multiple values to multiple variables\n",
    "a,b = 10, 20\n",
    "print(a,b)"
   ]
  },
  {
   "cell_type": "code",
   "execution_count": 31,
   "id": "405d9d87",
   "metadata": {},
   "outputs": [
    {
     "name": "stdout",
     "output_type": "stream",
     "text": [
      "<class 'int'>\n"
     ]
    }
   ],
   "source": [
    "#datatypes in python \n",
    "# integer\n",
    "a = 1\n",
    "print(type(a))"
   ]
  },
  {
   "cell_type": "code",
   "execution_count": 32,
   "id": "101d3bdf",
   "metadata": {},
   "outputs": [
    {
     "name": "stdout",
     "output_type": "stream",
     "text": [
      "<class 'float'>\n"
     ]
    }
   ],
   "source": [
    "# float point\n",
    "b = 1.34\n",
    "print(type(b))"
   ]
  },
  {
   "cell_type": "code",
   "execution_count": null,
   "id": "ba56b739",
   "metadata": {},
   "outputs": [],
   "source": []
  },
  {
   "cell_type": "code",
   "execution_count": 33,
   "id": "6596b667",
   "metadata": {},
   "outputs": [
    {
     "name": "stdout",
     "output_type": "stream",
     "text": [
      "<class 'float'>\n"
     ]
    }
   ],
   "source": [
    "no_of_employees = 10 # integer\n",
    "weight_in_kgs = 55.5 # floating point\n",
    "body_temperature = 98.6 # floating point\n",
    "print(type(body_temperature))"
   ]
  },
  {
   "cell_type": "code",
   "execution_count": 35,
   "id": "723f13a1",
   "metadata": {},
   "outputs": [
    {
     "name": "stdout",
     "output_type": "stream",
     "text": [
      "<class 'bool'>\n"
     ]
    }
   ],
   "source": [
    "# Boolean = True or false\n",
    "play_cricket = True\n",
    "print(type(play_cricket))"
   ]
  },
  {
   "cell_type": "code",
   "execution_count": 36,
   "id": "cf22480a",
   "metadata": {},
   "outputs": [
    {
     "name": "stdout",
     "output_type": "stream",
     "text": [
      "<class 'str'>\n"
     ]
    }
   ],
   "source": [
    "# string = set of characters/digits\n",
    "\n",
    "street_01 = \"Mount Road\" \n",
    "batch_code = 'we23'\n",
    "print(type(batch_code))"
   ]
  },
  {
   "cell_type": "code",
   "execution_count": 37,
   "id": "61e901b8",
   "metadata": {},
   "outputs": [
    {
     "name": "stdout",
     "output_type": "stream",
     "text": [
      "(2+5j) <class 'complex'>\n"
     ]
    }
   ],
   "source": [
    "# complex datatype\n",
    "#scientic calculation/computing, signal processing\n",
    "e = 2+5j\n",
    "print(e,type(e))"
   ]
  },
  {
   "cell_type": "code",
   "execution_count": null,
   "id": "8db3a12c",
   "metadata": {},
   "outputs": [],
   "source": [
    "\n",
    "#Collection\n",
    "List\n",
    "Tuple\n",
    "Set\n",
    "Dictionary\n"
   ]
  },
  {
   "cell_type": "code",
   "execution_count": null,
   "id": "fe119dd9",
   "metadata": {},
   "outputs": [],
   "source": [
    "# List\n",
    "#Heterogenous - hold different dataypes\n",
    "#defined = []\n"
   ]
  },
  {
   "cell_type": "code",
   "execution_count": 38,
   "id": "b725b8dd",
   "metadata": {},
   "outputs": [
    {
     "name": "stdout",
     "output_type": "stream",
     "text": [
      "[1, 2, 3]\n",
      "<class 'list'>\n"
     ]
    }
   ],
   "source": [
    "a = [1,2,3]\n",
    "print(a)\n",
    "print(type(a))"
   ]
  },
  {
   "cell_type": "code",
   "execution_count": 39,
   "id": "5a5d74f1",
   "metadata": {},
   "outputs": [
    {
     "name": "stdout",
     "output_type": "stream",
     "text": [
      "['E001', 'Kavin', 33, 9.5]\n"
     ]
    }
   ],
   "source": [
    "list1 = ['E001','Kavin',33, 9.5]\n",
    "print(list1)"
   ]
  },
  {
   "cell_type": "code",
   "execution_count": 41,
   "id": "c3bdd062",
   "metadata": {},
   "outputs": [
    {
     "data": {
      "text/plain": [
       "'Kavin'"
      ]
     },
     "execution_count": 41,
     "metadata": {},
     "output_type": "execute_result"
    }
   ],
   "source": [
    "#['E001', 'Kavin', 33, 9.5]\n",
    "#[ 0    ,    1   , 2 ,  3 ] = +ve indexing\n",
    "#[ -4   ,   -3   ,-2 , -1 ] = -ve indexing\n",
    "\n",
    "list1[1]"
   ]
  },
  {
   "cell_type": "code",
   "execution_count": 42,
   "id": "10fd7b3d",
   "metadata": {},
   "outputs": [
    {
     "data": {
      "text/plain": [
       "'Kavin'"
      ]
     },
     "execution_count": 42,
     "metadata": {},
     "output_type": "execute_result"
    }
   ],
   "source": [
    "list1[-3]"
   ]
  },
  {
   "cell_type": "code",
   "execution_count": null,
   "id": "5fbb7fc1",
   "metadata": {},
   "outputs": [],
   "source": [
    "# creation of empty list"
   ]
  },
  {
   "cell_type": "code",
   "execution_count": 43,
   "id": "7e281703",
   "metadata": {},
   "outputs": [
    {
     "name": "stdout",
     "output_type": "stream",
     "text": [
      "[] <class 'list'>\n"
     ]
    }
   ],
   "source": [
    "a = []\n",
    "print(a, type(a))"
   ]
  },
  {
   "cell_type": "code",
   "execution_count": 44,
   "id": "e10cd3a5",
   "metadata": {},
   "outputs": [
    {
     "name": "stdout",
     "output_type": "stream",
     "text": [
      "[] <class 'list'>\n"
     ]
    }
   ],
   "source": [
    "a = list()\n",
    "print(a, type(a))"
   ]
  },
  {
   "cell_type": "raw",
   "id": "2ed0abba",
   "metadata": {},
   "source": [
    "# add values to the list"
   ]
  },
  {
   "cell_type": "code",
   "execution_count": 45,
   "id": "8ae0ee22",
   "metadata": {},
   "outputs": [
    {
     "ename": "IndexError",
     "evalue": "list assignment index out of range",
     "output_type": "error",
     "traceback": [
      "\u001b[1;31m---------------------------------------------------------------------------\u001b[0m",
      "\u001b[1;31mIndexError\u001b[0m                                Traceback (most recent call last)",
      "Cell \u001b[1;32mIn[45], line 1\u001b[0m\n\u001b[1;32m----> 1\u001b[0m a[\u001b[38;5;241m0\u001b[39m]\u001b[38;5;241m=\u001b[39m\u001b[38;5;124m\"\u001b[39m\u001b[38;5;124mraji\u001b[39m\u001b[38;5;124m\"\u001b[39m\n\u001b[0;32m      2\u001b[0m \u001b[38;5;28mprint\u001b[39m(a)\n",
      "\u001b[1;31mIndexError\u001b[0m: list assignment index out of range"
     ]
    }
   ],
   "source": [
    "a[0]=\"raji\"\n",
    "print(a)"
   ]
  },
  {
   "cell_type": "code",
   "execution_count": 46,
   "id": "aae2dfa7",
   "metadata": {},
   "outputs": [
    {
     "name": "stdout",
     "output_type": "stream",
     "text": [
      "['raji']\n"
     ]
    }
   ],
   "source": [
    "a.append(\"raji\")\n",
    "print(a)"
   ]
  },
  {
   "cell_type": "code",
   "execution_count": 47,
   "id": "5b2185c9",
   "metadata": {},
   "outputs": [
    {
     "name": "stdout",
     "output_type": "stream",
     "text": [
      "raji\n"
     ]
    }
   ],
   "source": [
    "print(a[0])"
   ]
  },
  {
   "cell_type": "code",
   "execution_count": 48,
   "id": "e695ad5e",
   "metadata": {},
   "outputs": [
    {
     "ename": "IndexError",
     "evalue": "list assignment index out of range",
     "output_type": "error",
     "traceback": [
      "\u001b[1;31m---------------------------------------------------------------------------\u001b[0m",
      "\u001b[1;31mIndexError\u001b[0m                                Traceback (most recent call last)",
      "Cell \u001b[1;32mIn[48], line 1\u001b[0m\n\u001b[1;32m----> 1\u001b[0m a[\u001b[38;5;241m1\u001b[39m] \u001b[38;5;241m=\u001b[39m \u001b[38;5;124m\"\u001b[39m\u001b[38;5;124mrani\u001b[39m\u001b[38;5;124m\"\u001b[39m\n",
      "\u001b[1;31mIndexError\u001b[0m: list assignment index out of range"
     ]
    }
   ],
   "source": [
    "a[1] = \"rani\""
   ]
  },
  {
   "cell_type": "code",
   "execution_count": 49,
   "id": "9ef41fff",
   "metadata": {},
   "outputs": [
    {
     "name": "stdout",
     "output_type": "stream",
     "text": [
      "['raji', 'rani']\n"
     ]
    }
   ],
   "source": [
    "a.append(\"rani\")\n",
    "print(a)"
   ]
  },
  {
   "cell_type": "code",
   "execution_count": 50,
   "id": "2ccf93d2",
   "metadata": {},
   "outputs": [
    {
     "name": "stdout",
     "output_type": "stream",
     "text": [
      "<class 'list'>\n"
     ]
    }
   ],
   "source": [
    "print(type(a))"
   ]
  },
  {
   "cell_type": "code",
   "execution_count": 51,
   "id": "398f7089",
   "metadata": {},
   "outputs": [
    {
     "name": "stdout",
     "output_type": "stream",
     "text": [
      "['mani', 'megha'] <class 'list'>\n"
     ]
    }
   ],
   "source": [
    "a1 = [\"mani\",\"megha\"]\n",
    "print(a1,type(a1))"
   ]
  },
  {
   "cell_type": "code",
   "execution_count": 52,
   "id": "de7638d3",
   "metadata": {},
   "outputs": [
    {
     "name": "stdout",
     "output_type": "stream",
     "text": [
      "['raji', 'rani', ['mani', 'megha']]\n"
     ]
    }
   ],
   "source": [
    "a.append([\"mani\",\"megha\"])\n",
    "print(a)"
   ]
  },
  {
   "cell_type": "code",
   "execution_count": 55,
   "id": "cc1ec492",
   "metadata": {},
   "outputs": [
    {
     "name": "stdout",
     "output_type": "stream",
     "text": [
      "['raji', 'rani']\n",
      "['raji', 'rani', 'mani', 'megha']\n"
     ]
    }
   ],
   "source": [
    "a = [\"raji\",\"rani\"]\n",
    "print(a)\n",
    "a.extend([\"mani\",\"megha\"])\n",
    "print(a)"
   ]
  },
  {
   "cell_type": "code",
   "execution_count": 56,
   "id": "77a9bc87",
   "metadata": {},
   "outputs": [
    {
     "name": "stdout",
     "output_type": "stream",
     "text": [
      "['raji', 'rani', 'santosh', 'mani', 'megha']\n"
     ]
    }
   ],
   "source": [
    "['raji', 'rani', ***** 'mani', 'megha']\n",
    "#  0        1           2     3\n",
    "a.insert(2,\"santosh\")\n",
    "print(a)"
   ]
  },
  {
   "cell_type": "code",
   "execution_count": null,
   "id": "b0ed0df6",
   "metadata": {},
   "outputs": [],
   "source": [
    " ['raji', 'rani', 'santosh', 'mani', 'megha']\n",
    "    0       1        2         3         4"
   ]
  },
  {
   "cell_type": "code",
   "execution_count": 57,
   "id": "0c10f2f6",
   "metadata": {},
   "outputs": [
    {
     "data": {
      "text/plain": [
       "5"
      ]
     },
     "execution_count": 57,
     "metadata": {},
     "output_type": "execute_result"
    }
   ],
   "source": [
    "# count of elements in list\n",
    "len(a)"
   ]
  },
  {
   "cell_type": "code",
   "execution_count": 58,
   "id": "677ebda2",
   "metadata": {},
   "outputs": [
    {
     "name": "stdout",
     "output_type": "stream",
     "text": [
      "before 5 ['raji', 'rani', 'santosh', 'mani', 'megha']\n",
      "after 4 ['raji', 'rani', 'mani', 'megha']\n"
     ]
    }
   ],
   "source": [
    "print('before',len(a), a)\n",
    "a.remove('santosh')\n",
    "print('after', len(a), a)"
   ]
  },
  {
   "cell_type": "code",
   "execution_count": 59,
   "id": "0acdb1dc",
   "metadata": {},
   "outputs": [
    {
     "name": "stdout",
     "output_type": "stream",
     "text": [
      "before 4 ['raji', 'rani', 'mani', 'megha']\n",
      "after 3 ['raji', 'rani', 'megha']\n"
     ]
    }
   ],
   "source": [
    "print('before',len(a), a)\n",
    "a.pop(2)\n",
    "print('after', len(a), a)"
   ]
  },
  {
   "cell_type": "code",
   "execution_count": 61,
   "id": "2ba85a77",
   "metadata": {},
   "outputs": [
    {
     "name": "stdout",
     "output_type": "stream",
     "text": [
      "['raji', 'gani', 'santosh', 'mani', 'egha']\n"
     ]
    }
   ],
   "source": [
    "a = ['raji', 'gani', 'santosh','mani', 'egha']\n",
    "print(a)"
   ]
  },
  {
   "cell_type": "code",
   "execution_count": 62,
   "id": "caff8b5c",
   "metadata": {},
   "outputs": [
    {
     "name": "stdout",
     "output_type": "stream",
     "text": [
      "['egha', 'gani', 'mani', 'raji', 'santosh']\n"
     ]
    }
   ],
   "source": [
    "# sort the list\n",
    "a.sort()\n",
    "print(a)"
   ]
  },
  {
   "cell_type": "code",
   "execution_count": 63,
   "id": "1a0f1779",
   "metadata": {},
   "outputs": [
    {
     "name": "stdout",
     "output_type": "stream",
     "text": [
      "['santosh', 'raji', 'mani', 'gani', 'egha']\n"
     ]
    }
   ],
   "source": [
    "# reverse the list\n",
    "a.reverse()\n",
    "print(a)"
   ]
  },
  {
   "cell_type": "code",
   "execution_count": 64,
   "id": "f2b88eb4",
   "metadata": {},
   "outputs": [
    {
     "data": {
      "text/plain": [
       "1"
      ]
     },
     "execution_count": 64,
     "metadata": {},
     "output_type": "execute_result"
    }
   ],
   "source": [
    "# find occurence of a value in the list\n",
    "a.count('raji')"
   ]
  },
  {
   "cell_type": "code",
   "execution_count": 65,
   "id": "9dd2dd60",
   "metadata": {},
   "outputs": [
    {
     "data": {
      "text/plain": [
       "1"
      ]
     },
     "execution_count": 65,
     "metadata": {},
     "output_type": "execute_result"
    }
   ],
   "source": [
    "a.count('mani')"
   ]
  },
  {
   "cell_type": "code",
   "execution_count": 66,
   "id": "1d8c3f84",
   "metadata": {},
   "outputs": [
    {
     "data": {
      "text/plain": [
       "0"
      ]
     },
     "execution_count": 66,
     "metadata": {},
     "output_type": "execute_result"
    }
   ],
   "source": [
    "a.count('ani')"
   ]
  },
  {
   "cell_type": "code",
   "execution_count": 67,
   "id": "6a79f64a",
   "metadata": {},
   "outputs": [
    {
     "name": "stdout",
     "output_type": "stream",
     "text": [
      "['raji', 'santosh', 'gani', 'egha']\n"
     ]
    }
   ],
   "source": [
    "a = ['raji', 'gani', 'santosh','gani', 'egha']\n",
    "a.remove('gani')\n",
    "print(a)"
   ]
  },
  {
   "cell_type": "code",
   "execution_count": 68,
   "id": "2d1efc5f",
   "metadata": {},
   "outputs": [
    {
     "data": {
      "text/plain": [
       "2"
      ]
     },
     "execution_count": 68,
     "metadata": {},
     "output_type": "execute_result"
    }
   ],
   "source": [
    "a = ['raji', 'gani', 'santosh','gani', 'egha']\n",
    "a.count('gani')\n"
   ]
  },
  {
   "cell_type": "code",
   "execution_count": 70,
   "id": "d2ead9ad",
   "metadata": {},
   "outputs": [
    {
     "name": "stdout",
     "output_type": "stream",
     "text": [
      "['raji', 'gani', 'santosh', 'gani', 'egha']\n"
     ]
    }
   ],
   "source": [
    "print(a)"
   ]
  },
  {
   "cell_type": "code",
   "execution_count": 71,
   "id": "f3a54fd8",
   "metadata": {},
   "outputs": [
    {
     "name": "stdout",
     "output_type": "stream",
     "text": [
      "gani gani\n"
     ]
    }
   ],
   "source": [
    "\n",
    "#[ 0    ,    1   ,    2 ,     3       4] = +ve indexing\n",
    "#[ -5  ,    -4   ,   -3   ,  -2 ,    -1 ] = -ve indexing\n",
    "\n",
    "#gani\n",
    "print(a[-2], a[3])\n"
   ]
  },
  {
   "cell_type": "code",
   "execution_count": 77,
   "id": "41399766",
   "metadata": {},
   "outputs": [
    {
     "data": {
      "text/plain": [
       "[]"
      ]
     },
     "execution_count": 77,
     "metadata": {},
     "output_type": "execute_result"
    }
   ],
   "source": [
    "a[-2:1]"
   ]
  },
  {
   "cell_type": "code",
   "execution_count": 78,
   "id": "6f7c8825",
   "metadata": {},
   "outputs": [
    {
     "data": {
      "text/plain": [
       "'egha'"
      ]
     },
     "execution_count": 78,
     "metadata": {},
     "output_type": "execute_result"
    }
   ],
   "source": [
    "a[-1]"
   ]
  },
  {
   "cell_type": "code",
   "execution_count": 79,
   "id": "044b750a",
   "metadata": {},
   "outputs": [
    {
     "data": {
      "text/plain": [
       "['gani', 'egha']"
      ]
     },
     "execution_count": 79,
     "metadata": {},
     "output_type": "execute_result"
    }
   ],
   "source": [
    "a[-2:]"
   ]
  },
  {
   "cell_type": "code",
   "execution_count": null,
   "id": "fac9500a",
   "metadata": {},
   "outputs": [],
   "source": []
  },
  {
   "cell_type": "code",
   "execution_count": 72,
   "id": "95126c0e",
   "metadata": {},
   "outputs": [
    {
     "data": {
      "text/plain": [
       "['gani']"
      ]
     },
     "execution_count": 72,
     "metadata": {},
     "output_type": "execute_result"
    }
   ],
   "source": [
    "a[3:-1]"
   ]
  },
  {
   "cell_type": "code",
   "execution_count": 73,
   "id": "cf8e5db4",
   "metadata": {},
   "outputs": [
    {
     "data": {
      "text/plain": [
       "['gani']"
      ]
     },
     "execution_count": 73,
     "metadata": {},
     "output_type": "execute_result"
    }
   ],
   "source": [
    "a[3:4]"
   ]
  },
  {
   "cell_type": "code",
   "execution_count": 74,
   "id": "d2f3cc33",
   "metadata": {},
   "outputs": [
    {
     "data": {
      "text/plain": [
       "['gani', 'egha']"
      ]
     },
     "execution_count": 74,
     "metadata": {},
     "output_type": "execute_result"
    }
   ],
   "source": [
    "a[3:5]"
   ]
  },
  {
   "cell_type": "code",
   "execution_count": 75,
   "id": "bb7eabae",
   "metadata": {},
   "outputs": [
    {
     "data": {
      "text/plain": [
       "['gani', 'egha']"
      ]
     },
     "execution_count": 75,
     "metadata": {},
     "output_type": "execute_result"
    }
   ],
   "source": [
    "a[3:]"
   ]
  },
  {
   "cell_type": "code",
   "execution_count": 76,
   "id": "79bf9e08",
   "metadata": {},
   "outputs": [
    {
     "data": {
      "text/plain": [
       "['gani', 'egha']"
      ]
     },
     "execution_count": 76,
     "metadata": {},
     "output_type": "execute_result"
    }
   ],
   "source": [
    "a[3::]"
   ]
  },
  {
   "cell_type": "code",
   "execution_count": 81,
   "id": "7976ff8a",
   "metadata": {},
   "outputs": [
    {
     "ename": "AttributeError",
     "evalue": "'list' object has no attribute 'removeAll'",
     "output_type": "error",
     "traceback": [
      "\u001b[1;31m---------------------------------------------------------------------------\u001b[0m",
      "\u001b[1;31mAttributeError\u001b[0m                            Traceback (most recent call last)",
      "Cell \u001b[1;32mIn[81], line 2\u001b[0m\n\u001b[0;32m      1\u001b[0m a \u001b[38;5;241m=\u001b[39m [\u001b[38;5;124m'\u001b[39m\u001b[38;5;124mraji\u001b[39m\u001b[38;5;124m'\u001b[39m, \u001b[38;5;124m'\u001b[39m\u001b[38;5;124mgani\u001b[39m\u001b[38;5;124m'\u001b[39m, \u001b[38;5;124m'\u001b[39m\u001b[38;5;124msantosh\u001b[39m\u001b[38;5;124m'\u001b[39m,\u001b[38;5;124m'\u001b[39m\u001b[38;5;124mgani\u001b[39m\u001b[38;5;124m'\u001b[39m, \u001b[38;5;124m'\u001b[39m\u001b[38;5;124megha\u001b[39m\u001b[38;5;124m'\u001b[39m]\n\u001b[1;32m----> 2\u001b[0m a\u001b[38;5;241m.\u001b[39mremoveAll(\u001b[38;5;124m'\u001b[39m\u001b[38;5;124mgani\u001b[39m\u001b[38;5;124m'\u001b[39m)\n\u001b[0;32m      3\u001b[0m \u001b[38;5;28mprint\u001b[39m(a)\n",
      "\u001b[1;31mAttributeError\u001b[0m: 'list' object has no attribute 'removeAll'"
     ]
    }
   ],
   "source": [
    "a = ['raji', 'gani', 'santosh','gani', 'egha']\n",
    "a.removeAll('gani')\n",
    "print(a)"
   ]
  },
  {
   "cell_type": "code",
   "execution_count": 82,
   "id": "f54b5027",
   "metadata": {},
   "outputs": [
    {
     "name": "stdout",
     "output_type": "stream",
     "text": [
      "['raji', 'gani', 'santosh', 'gani', 'egha']\n"
     ]
    }
   ],
   "source": [
    "print(a)"
   ]
  },
  {
   "cell_type": "code",
   "execution_count": 83,
   "id": "f18480b4",
   "metadata": {},
   "outputs": [],
   "source": [
    "#delete the list\n",
    "del a"
   ]
  },
  {
   "cell_type": "code",
   "execution_count": 84,
   "id": "92056738",
   "metadata": {},
   "outputs": [
    {
     "ename": "NameError",
     "evalue": "name 'a' is not defined",
     "output_type": "error",
     "traceback": [
      "\u001b[1;31m---------------------------------------------------------------------------\u001b[0m",
      "\u001b[1;31mNameError\u001b[0m                                 Traceback (most recent call last)",
      "Cell \u001b[1;32mIn[84], line 1\u001b[0m\n\u001b[1;32m----> 1\u001b[0m \u001b[38;5;28mprint\u001b[39m(a)\n",
      "\u001b[1;31mNameError\u001b[0m: name 'a' is not defined"
     ]
    }
   ],
   "source": [
    "print(a)"
   ]
  },
  {
   "cell_type": "code",
   "execution_count": null,
   "id": "6c653e34",
   "metadata": {},
   "outputs": [],
   "source": []
  }
 ],
 "metadata": {
  "kernelspec": {
   "display_name": "Python 3 (ipykernel)",
   "language": "python",
   "name": "python3"
  },
  "language_info": {
   "codemirror_mode": {
    "name": "ipython",
    "version": 3
   },
   "file_extension": ".py",
   "mimetype": "text/x-python",
   "name": "python",
   "nbconvert_exporter": "python",
   "pygments_lexer": "ipython3",
   "version": "3.11.5"
  }
 },
 "nbformat": 4,
 "nbformat_minor": 5
}
