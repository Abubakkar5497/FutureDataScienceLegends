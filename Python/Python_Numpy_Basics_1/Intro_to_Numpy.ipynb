{
  "nbformat": 4,
  "nbformat_minor": 0,
  "metadata": {
    "colab": {
      "provenance": []
    },
    "kernelspec": {
      "name": "python3",
      "display_name": "Python 3"
    },
    "language_info": {
      "name": "python"
    }
  },
  "cells": [
    {
      "cell_type": "markdown",
      "source": [
        "## Numpy - Numerical Python\n",
        "\n",
        "Python library - Arrays - 2005\n",
        "\n",
        "- Lists served the purpose of arrays\n",
        "- 50x faster than traditional lists\n",
        "- very frequently used in Data Science\n",
        "- Mathematical foothold - Maths\n",
        "\n",
        "Numpy stores one continuos place in memory\n",
        "- Speed Efficiency\n",
        "- Memory Usage - data is store contiguosly in memory, which enhances performance by efficient access.\n",
        "- Mathematical operations are easy\n",
        "- N-Dimensional Data handling"
      ],
      "metadata": {
        "id": "zyYUmtEOWD2E"
      }
    },
    {
      "cell_type": "code",
      "source": [
        "!pip install numpy"
      ],
      "metadata": {
        "colab": {
          "base_uri": "https://localhost:8080/"
        },
        "id": "YLVAMVjjbU4W",
        "outputId": "4d9ee530-2d65-46ac-db35-cc67d970d16a"
      },
      "execution_count": 2,
      "outputs": [
        {
          "output_type": "stream",
          "name": "stdout",
          "text": [
            "Requirement already satisfied: numpy in /usr/local/lib/python3.10/dist-packages (1.25.2)\n"
          ]
        }
      ]
    },
    {
      "cell_type": "code",
      "execution_count": 1,
      "metadata": {
        "id": "Bhk4Ek29WCTb"
      },
      "outputs": [],
      "source": [
        "import numpy"
      ]
    },
    {
      "cell_type": "code",
      "source": [
        "import numpy as np #Allocating an alias for the package numpy"
      ],
      "metadata": {
        "id": "4S4rcTHRbQNB"
      },
      "execution_count": 4,
      "outputs": []
    },
    {
      "cell_type": "code",
      "source": [
        "a = np.array((1,2,3,4,5,6,7)) #Here no information of second dimension"
      ],
      "metadata": {
        "id": "z4Ts4RQ6bjlj"
      },
      "execution_count": 15,
      "outputs": []
    },
    {
      "cell_type": "code",
      "source": [
        "a.shape"
      ],
      "metadata": {
        "colab": {
          "base_uri": "https://localhost:8080/"
        },
        "id": "AkERDOItbtkh",
        "outputId": "d39fd3cd-1fb4-442f-de02-54a942a423e9"
      },
      "execution_count": 16,
      "outputs": [
        {
          "output_type": "execute_result",
          "data": {
            "text/plain": [
              "(7,)"
            ]
          },
          "metadata": {},
          "execution_count": 16
        }
      ]
    },
    {
      "cell_type": "code",
      "source": [],
      "metadata": {
        "id": "vfJIAdQresjh"
      },
      "execution_count": null,
      "outputs": []
    },
    {
      "cell_type": "code",
      "source": [
        "a = np.array([[1],\n",
        "              [2],\n",
        "              [3],\n",
        "              [4],\n",
        "              [5],\n",
        "              [6],\n",
        "              [7]]) #I am explicitly passing information of dimensions"
      ],
      "metadata": {
        "id": "JLcHF5qJbvDt"
      },
      "execution_count": 22,
      "outputs": []
    },
    {
      "cell_type": "code",
      "source": [
        "a.shape"
      ],
      "metadata": {
        "colab": {
          "base_uri": "https://localhost:8080/"
        },
        "id": "SviyZLQKb1aj",
        "outputId": "5f7937f9-8d38-4d5b-f5bc-09afb16eea05"
      },
      "execution_count": 23,
      "outputs": [
        {
          "output_type": "execute_result",
          "data": {
            "text/plain": [
              "(7, 1)"
            ]
          },
          "metadata": {},
          "execution_count": 23
        }
      ]
    },
    {
      "cell_type": "code",
      "source": [
        "a = np.array([[1,2],\n",
        "              [2,2],\n",
        "              [3,2],\n",
        "              [4,2],\n",
        "              [5,2],\n",
        "              [6,2],\n",
        "              [7,2]])"
      ],
      "metadata": {
        "id": "sdM2JJA6cM7S"
      },
      "execution_count": 27,
      "outputs": []
    },
    {
      "cell_type": "code",
      "source": [
        "a.shape"
      ],
      "metadata": {
        "colab": {
          "base_uri": "https://localhost:8080/"
        },
        "id": "quvua8TQd5Ds",
        "outputId": "c46d9a3d-1d31-42fa-8788-181a51ea5e7e"
      },
      "execution_count": 29,
      "outputs": [
        {
          "output_type": "execute_result",
          "data": {
            "text/plain": [
              "(7, 2)"
            ]
          },
          "metadata": {},
          "execution_count": 29
        }
      ]
    },
    {
      "cell_type": "code",
      "source": [
        "a.T #Transpose"
      ],
      "metadata": {
        "colab": {
          "base_uri": "https://localhost:8080/"
        },
        "id": "SGe6GOhmdHp6",
        "outputId": "8899dad8-3427-417c-acd4-20e87e8fb686"
      },
      "execution_count": 28,
      "outputs": [
        {
          "output_type": "execute_result",
          "data": {
            "text/plain": [
              "array([[1, 2, 3, 4, 5, 6, 7],\n",
              "       [2, 2, 2, 2, 2, 2, 2]])"
            ]
          },
          "metadata": {},
          "execution_count": 28
        }
      ]
    },
    {
      "cell_type": "code",
      "source": [
        "a.T.shape"
      ],
      "metadata": {
        "colab": {
          "base_uri": "https://localhost:8080/"
        },
        "id": "0AsPpg_gdCWp",
        "outputId": "b695c818-120a-4b18-9d4c-2fa5ea54744e"
      },
      "execution_count": 30,
      "outputs": [
        {
          "output_type": "execute_result",
          "data": {
            "text/plain": [
              "(2, 7)"
            ]
          },
          "metadata": {},
          "execution_count": 30
        }
      ]
    },
    {
      "cell_type": "markdown",
      "source": [
        "## Indexing"
      ],
      "metadata": {
        "id": "k4sqAAPVe1dM"
      }
    },
    {
      "cell_type": "code",
      "source": [
        "a = np.array((1,2,3,4,5,6,7)) #Here no information of second dimension\n",
        "print(a[0])"
      ],
      "metadata": {
        "colab": {
          "base_uri": "https://localhost:8080/"
        },
        "id": "uBxJeZEmdCox",
        "outputId": "d2087a5f-e155-4f9a-aea3-bd272dad9494"
      },
      "execution_count": 31,
      "outputs": [
        {
          "output_type": "stream",
          "name": "stdout",
          "text": [
            "1\n"
          ]
        }
      ]
    },
    {
      "cell_type": "code",
      "source": [
        "a = np.array([[1,2],\n",
        "              [2,2],\n",
        "              [3,2],\n",
        "              [4,2],\n",
        "              [5,2],\n",
        "              [6,2],\n",
        "              [7,2]])"
      ],
      "metadata": {
        "id": "pHG2sPZ3e5jJ"
      },
      "execution_count": 39,
      "outputs": []
    },
    {
      "cell_type": "code",
      "source": [
        "a[0][0]"
      ],
      "metadata": {
        "colab": {
          "base_uri": "https://localhost:8080/"
        },
        "id": "HfmITR6Ne-M9",
        "outputId": "2336bc2f-3b22-4c26-ed7d-a792cdc5a238"
      },
      "execution_count": 40,
      "outputs": [
        {
          "output_type": "execute_result",
          "data": {
            "text/plain": [
              "1"
            ]
          },
          "metadata": {},
          "execution_count": 40
        }
      ]
    },
    {
      "cell_type": "code",
      "source": [
        "a[0,0]"
      ],
      "metadata": {
        "colab": {
          "base_uri": "https://localhost:8080/"
        },
        "id": "PIh8M8eugOZA",
        "outputId": "81a05071-21e1-427f-bc74-5e3061fa7fb0"
      },
      "execution_count": 41,
      "outputs": [
        {
          "output_type": "execute_result",
          "data": {
            "text/plain": [
              "1"
            ]
          },
          "metadata": {},
          "execution_count": 41
        }
      ]
    },
    {
      "cell_type": "code",
      "source": [
        "a = np.array([[[1,2],\n",
        "               [2,2]],\n",
        "              [[3,2],\n",
        "               [4,2]],\n",
        "              [[5,2],\n",
        "               [6,2]]])"
      ],
      "metadata": {
        "id": "_dQ3A-zKfAIx"
      },
      "execution_count": 43,
      "outputs": []
    },
    {
      "cell_type": "code",
      "source": [
        "a.shape"
      ],
      "metadata": {
        "colab": {
          "base_uri": "https://localhost:8080/"
        },
        "id": "wTHivLLBfVXs",
        "outputId": "22598ba0-2c4c-4cac-d257-8bd5973edc7c"
      },
      "execution_count": 44,
      "outputs": [
        {
          "output_type": "execute_result",
          "data": {
            "text/plain": [
              "(3, 2, 2)"
            ]
          },
          "metadata": {},
          "execution_count": 44
        }
      ]
    },
    {
      "cell_type": "code",
      "source": [
        "a"
      ],
      "metadata": {
        "colab": {
          "base_uri": "https://localhost:8080/"
        },
        "id": "d_TRmicgfd4T",
        "outputId": "898ee732-9c4e-4c11-a68a-a53f88e0211a"
      },
      "execution_count": 45,
      "outputs": [
        {
          "output_type": "execute_result",
          "data": {
            "text/plain": [
              "array([[[1, 2],\n",
              "        [2, 2]],\n",
              "\n",
              "       [[3, 2],\n",
              "        [4, 2]],\n",
              "\n",
              "       [[5, 2],\n",
              "        [6, 2]]])"
            ]
          },
          "metadata": {},
          "execution_count": 45
        }
      ]
    },
    {
      "cell_type": "code",
      "source": [
        "a[0][1][1]"
      ],
      "metadata": {
        "colab": {
          "base_uri": "https://localhost:8080/"
        },
        "id": "RpJHlcHIfpBg",
        "outputId": "5f93cd62-5cd6-4620-dc86-d59f25d7fbfd"
      },
      "execution_count": 49,
      "outputs": [
        {
          "output_type": "execute_result",
          "data": {
            "text/plain": [
              "2"
            ]
          },
          "metadata": {},
          "execution_count": 49
        }
      ]
    },
    {
      "cell_type": "code",
      "source": [
        "a[0,1,1]"
      ],
      "metadata": {
        "colab": {
          "base_uri": "https://localhost:8080/"
        },
        "id": "OCMjr8mzgTZR",
        "outputId": "076e5906-3cf3-48f2-b26a-9969943d090b"
      },
      "execution_count": 60,
      "outputs": [
        {
          "output_type": "execute_result",
          "data": {
            "text/plain": [
              "2"
            ]
          },
          "metadata": {},
          "execution_count": 60
        }
      ]
    },
    {
      "cell_type": "code",
      "source": [
        "a.shape"
      ],
      "metadata": {
        "colab": {
          "base_uri": "https://localhost:8080/"
        },
        "id": "PCTmuLM6gjgR",
        "outputId": "21312a06-f36e-4c09-eb0d-cb11555b85f4"
      },
      "execution_count": 55,
      "outputs": [
        {
          "output_type": "execute_result",
          "data": {
            "text/plain": [
              "(3, 2, 2)"
            ]
          },
          "metadata": {},
          "execution_count": 55
        }
      ]
    },
    {
      "cell_type": "code",
      "source": [
        "a = np.array([[[1,2],[3,4]],[[5,6],[7,8]]])\n",
        "a.shape"
      ],
      "metadata": {
        "colab": {
          "base_uri": "https://localhost:8080/"
        },
        "id": "9PQNUn0MhvnA",
        "outputId": "ef818272-13a9-47aa-db25-0fd8ef162321"
      },
      "execution_count": 73,
      "outputs": [
        {
          "output_type": "execute_result",
          "data": {
            "text/plain": [
              "(2, 2, 2)"
            ]
          },
          "metadata": {},
          "execution_count": 73
        }
      ]
    },
    {
      "cell_type": "code",
      "source": [
        "a[0] #By default numpy arrays are queried row by row to change it I am changing to column"
      ],
      "metadata": {
        "colab": {
          "base_uri": "https://localhost:8080/"
        },
        "id": "xLjhwGbUklrW",
        "outputId": "aba8b609-9fff-41f7-ea8f-6356252d3889"
      },
      "execution_count": 76,
      "outputs": [
        {
          "output_type": "execute_result",
          "data": {
            "text/plain": [
              "array([[1, 2],\n",
              "       [3, 4]])"
            ]
          },
          "metadata": {},
          "execution_count": 76
        }
      ]
    },
    {
      "cell_type": "code",
      "source": [
        "a[0].T #By default numpy arrays are queried row by row to change it I am changing to column"
      ],
      "metadata": {
        "colab": {
          "base_uri": "https://localhost:8080/"
        },
        "id": "1PoDvnKUicu1",
        "outputId": "43382ebf-b0f5-4019-cb22-b17334378e69"
      },
      "execution_count": 77,
      "outputs": [
        {
          "output_type": "execute_result",
          "data": {
            "text/plain": [
              "array([[1, 3],\n",
              "       [2, 4]])"
            ]
          },
          "metadata": {},
          "execution_count": 77
        }
      ]
    },
    {
      "cell_type": "code",
      "source": [
        "#if A = A.T what is it called?"
      ],
      "metadata": {
        "id": "DFiUBYsIkz4_"
      },
      "execution_count": null,
      "outputs": []
    },
    {
      "cell_type": "code",
      "source": [
        "a=np.array(\n",
        "    [[\n",
        "      [1,2,3,4,5] #Shape 2x1x5\n",
        "    ],\n",
        "    [\n",
        "        [2,3,4,5,6]\n",
        "    ]])"
      ],
      "metadata": {
        "id": "VYcJttr9i3AU"
      },
      "execution_count": 69,
      "outputs": []
    },
    {
      "cell_type": "code",
      "source": [
        "a.shape"
      ],
      "metadata": {
        "colab": {
          "base_uri": "https://localhost:8080/"
        },
        "id": "6ipRqIZCjqMf",
        "outputId": "ca8a2b16-d3f5-46db-c009-6ccf1a4e1644"
      },
      "execution_count": 70,
      "outputs": [
        {
          "output_type": "execute_result",
          "data": {
            "text/plain": [
              "(2, 1, 5)"
            ]
          },
          "metadata": {},
          "execution_count": 70
        }
      ]
    },
    {
      "cell_type": "code",
      "source": [
        "sh=np.array ([[[1,\"g\"],[2,\"b\"]],[[3,\"c\"],[4,\"d\"]],[[5,\"e\"],[6,\"f\"]]])"
      ],
      "metadata": {
        "id": "X06BgrmEjrC3"
      },
      "execution_count": 71,
      "outputs": []
    },
    {
      "cell_type": "code",
      "source": [
        "a1 = np.array([\n",
        "    [\n",
        "        [[1,2],[3,3],[5,6]]\n",
        "    ],\n",
        "\n",
        "\n",
        "    [\n",
        "        [[9,8],[7,6],[0,3]]\n",
        "    ]\n",
        "              ])"
      ],
      "metadata": {
        "id": "4pBxDPbBj_qa"
      },
      "execution_count": 92,
      "outputs": []
    },
    {
      "cell_type": "code",
      "source": [
        "a1.shape"
      ],
      "metadata": {
        "colab": {
          "base_uri": "https://localhost:8080/"
        },
        "id": "kVFUpNBRnku9",
        "outputId": "b822d9b0-a125-482e-cadd-a4bf4ceed4dd"
      },
      "execution_count": 104,
      "outputs": [
        {
          "output_type": "execute_result",
          "data": {
            "text/plain": [
              "(2, 1, 3, 2)"
            ]
          },
          "metadata": {},
          "execution_count": 104
        }
      ]
    },
    {
      "cell_type": "code",
      "source": [
        "a1"
      ],
      "metadata": {
        "colab": {
          "base_uri": "https://localhost:8080/"
        },
        "id": "ZZkUgPAxlMPh",
        "outputId": "4ac3c734-c3a5-466f-aab0-d97034fb6981"
      },
      "execution_count": 98,
      "outputs": [
        {
          "output_type": "execute_result",
          "data": {
            "text/plain": [
              "array([[[[1, 2],\n",
              "         [3, 3],\n",
              "         [5, 6]]],\n",
              "\n",
              "\n",
              "       [[[9, 8],\n",
              "         [7, 6],\n",
              "         [0, 3]]]])"
            ]
          },
          "metadata": {},
          "execution_count": 98
        }
      ]
    },
    {
      "cell_type": "code",
      "source": [
        "a1[0]"
      ],
      "metadata": {
        "colab": {
          "base_uri": "https://localhost:8080/"
        },
        "id": "SHYsbNw8m-Df",
        "outputId": "5f312a74-ea28-4d19-d18e-79235194c43e"
      },
      "execution_count": 100,
      "outputs": [
        {
          "output_type": "execute_result",
          "data": {
            "text/plain": [
              "array([[[1, 2],\n",
              "        [3, 3],\n",
              "        [5, 6]]])"
            ]
          },
          "metadata": {},
          "execution_count": 100
        }
      ]
    },
    {
      "cell_type": "code",
      "source": [
        "a1[0].shape"
      ],
      "metadata": {
        "colab": {
          "base_uri": "https://localhost:8080/"
        },
        "id": "Z0njOfM2k4Rx",
        "outputId": "416eb610-4ae3-4284-c58d-1e400bc077b8"
      },
      "execution_count": 97,
      "outputs": [
        {
          "output_type": "execute_result",
          "data": {
            "text/plain": [
              "(1, 3, 2)"
            ]
          },
          "metadata": {},
          "execution_count": 97
        }
      ]
    },
    {
      "cell_type": "code",
      "source": [
        "a1.T.shape"
      ],
      "metadata": {
        "colab": {
          "base_uri": "https://localhost:8080/"
        },
        "id": "GSxzsUinnmjJ",
        "outputId": "5ad21a22-2bb2-4e3c-c1d0-121c23bd10d1"
      },
      "execution_count": 105,
      "outputs": [
        {
          "output_type": "execute_result",
          "data": {
            "text/plain": [
              "(2, 3, 1, 2)"
            ]
          },
          "metadata": {},
          "execution_count": 105
        }
      ]
    },
    {
      "cell_type": "code",
      "source": [
        "a1[0].T"
      ],
      "metadata": {
        "colab": {
          "base_uri": "https://localhost:8080/"
        },
        "id": "fbk3a_anncg7",
        "outputId": "ea43e3a2-3fbc-440e-87cb-e4c6bb757ace"
      },
      "execution_count": 103,
      "outputs": [
        {
          "output_type": "execute_result",
          "data": {
            "text/plain": [
              "array([[[1],\n",
              "        [3],\n",
              "        [5]],\n",
              "\n",
              "       [[2],\n",
              "        [3],\n",
              "        [6]]])"
            ]
          },
          "metadata": {},
          "execution_count": 103
        }
      ]
    },
    {
      "cell_type": "code",
      "source": [
        "a1[0].T.shape"
      ],
      "metadata": {
        "colab": {
          "base_uri": "https://localhost:8080/"
        },
        "id": "_NGjSRTck4zk",
        "outputId": "860ca8e0-1f5c-41eb-f65f-164bafd4b7d8"
      },
      "execution_count": 102,
      "outputs": [
        {
          "output_type": "execute_result",
          "data": {
            "text/plain": [
              "(2, 3, 1)"
            ]
          },
          "metadata": {},
          "execution_count": 102
        }
      ]
    },
    {
      "cell_type": "code",
      "source": [
        "type(a)"
      ],
      "metadata": {
        "colab": {
          "base_uri": "https://localhost:8080/"
        },
        "id": "6NPC3k7mmWaB",
        "outputId": "91dd6cac-368e-4931-97e2-bd2dbd83b6ee"
      },
      "execution_count": 106,
      "outputs": [
        {
          "output_type": "execute_result",
          "data": {
            "text/plain": [
              "numpy.ndarray"
            ]
          },
          "metadata": {},
          "execution_count": 106
        }
      ]
    },
    {
      "cell_type": "code",
      "source": [
        "AA-1 = I"
      ],
      "metadata": {
        "id": "xRAljWDan4uO"
      },
      "execution_count": null,
      "outputs": []
    },
    {
      "cell_type": "code",
      "source": [
        "5 x 1/5 = 1\n",
        "A . 1/A = I"
      ],
      "metadata": {
        "id": "XrcDy9sto2zR"
      },
      "execution_count": null,
      "outputs": []
    },
    {
      "cell_type": "code",
      "source": [
        "def somefunction():\n",
        "  \"\"\"\n",
        "  Some Docstring\n",
        "  \"\"\""
      ],
      "metadata": {
        "id": "lcrpAtKRtU6Z"
      },
      "execution_count": 109,
      "outputs": []
    },
    {
      "cell_type": "code",
      "source": [],
      "metadata": {
        "id": "HEl715ffuUZ8"
      },
      "execution_count": null,
      "outputs": []
    }
  ]
}